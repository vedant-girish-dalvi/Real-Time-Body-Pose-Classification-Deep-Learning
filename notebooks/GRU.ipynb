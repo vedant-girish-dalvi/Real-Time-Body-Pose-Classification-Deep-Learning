{
 "cells": [
  {
   "cell_type": "markdown",
   "metadata": {},
   "source": [
    "Random Seeding & Enable Determinism to produce replicable results"
   ]
  },
  {
   "cell_type": "code",
   "execution_count": 1,
   "metadata": {},
   "outputs": [
    {
     "name": "stderr",
     "output_type": "stream",
     "text": [
      "2024-06-26 12:09:31.189269: I tensorflow/core/util/port.cc:113] oneDNN custom operations are on. You may see slightly different numerical results due to floating-point round-off errors from different computation orders. To turn them off, set the environment variable `TF_ENABLE_ONEDNN_OPTS=0`.\n",
      "2024-06-26 12:09:31.206156: E external/local_xla/xla/stream_executor/cuda/cuda_dnn.cc:9261] Unable to register cuDNN factory: Attempting to register factory for plugin cuDNN when one has already been registered\n",
      "2024-06-26 12:09:31.206169: E external/local_xla/xla/stream_executor/cuda/cuda_fft.cc:607] Unable to register cuFFT factory: Attempting to register factory for plugin cuFFT when one has already been registered\n",
      "2024-06-26 12:09:31.206747: E external/local_xla/xla/stream_executor/cuda/cuda_blas.cc:1515] Unable to register cuBLAS factory: Attempting to register factory for plugin cuBLAS when one has already been registered\n",
      "2024-06-26 12:09:31.209986: I tensorflow/core/platform/cpu_feature_guard.cc:182] This TensorFlow binary is optimized to use available CPU instructions in performance-critical operations.\n",
      "To enable the following instructions: AVX2 AVX512F AVX512_VNNI AVX512_BF16 FMA, in other operations, rebuild TensorFlow with the appropriate compiler flags.\n",
      "2024-06-26 12:09:31.539134: W tensorflow/compiler/tf2tensorrt/utils/py_utils.cc:38] TF-TRT Warning: Could not find TensorRT\n"
     ]
    }
   ],
   "source": [
    "import tensorflow as tf\n",
    "from tensorflow import keras\n",
    "\n",
    "tf.keras.utils.set_random_seed(1)\n",
    "tf.config.experimental.enable_op_determinism()"
   ]
  },
  {
   "cell_type": "markdown",
   "metadata": {},
   "source": [
    "Importing libraries and modules"
   ]
  },
  {
   "cell_type": "code",
   "execution_count": 2,
   "metadata": {},
   "outputs": [
    {
     "name": "stdout",
     "output_type": "stream",
     "text": [
      "2.15.0\n"
     ]
    }
   ],
   "source": [
    "import numpy as np\n",
    "import pandas as pd\n",
    "import sklearn\n",
    "import time\n",
    "from sklearn.preprocessing import StandardScaler\n",
    "\n",
    "import matplotlib.pyplot as plt\n",
    "import seaborn as sns\n",
    "\n",
    "import numpy as np\n",
    "from keras import layers\n",
    "from keras.models import Sequential\n",
    "from keras.layers import GRU, Dense\n",
    "from pickle import dump\n",
    "from sklearn.metrics import ConfusionMatrixDisplay\n",
    "from sklearn.metrics import confusion_matrix\n",
    "from sklearn.metrics import classification_report\n",
    "\n",
    "\n",
    "print(tf.__version__) "
   ]
  },
  {
   "cell_type": "code",
   "execution_count": 3,
   "metadata": {},
   "outputs": [],
   "source": [
    "features = [\"Neck_right-ward_rotation\", \"LeftElbow_flexion\", \"RightElbow_flexion\", \"LeftKnee_flexion\", \"RightKnee_flexion\", \"Thorax_extension\", \"Thorax_lateral_flexion_rotation\"]"
   ]
  },
  {
   "cell_type": "markdown",
   "metadata": {},
   "source": [
    "Load Dataset"
   ]
  },
  {
   "cell_type": "code",
   "execution_count": 4,
   "metadata": {},
   "outputs": [
    {
     "data": {
      "text/html": [
       "<div>\n",
       "<style scoped>\n",
       "    .dataframe tbody tr th:only-of-type {\n",
       "        vertical-align: middle;\n",
       "    }\n",
       "\n",
       "    .dataframe tbody tr th {\n",
       "        vertical-align: top;\n",
       "    }\n",
       "\n",
       "    .dataframe thead th {\n",
       "        text-align: right;\n",
       "    }\n",
       "</style>\n",
       "<table border=\"1\" class=\"dataframe\">\n",
       "  <thead>\n",
       "    <tr style=\"text-align: right;\">\n",
       "      <th></th>\n",
       "      <th>Neck_right-ward_rotation</th>\n",
       "      <th>LeftElbow_flexion</th>\n",
       "      <th>RightElbow_flexion</th>\n",
       "      <th>LeftKnee_flexion</th>\n",
       "      <th>RightKnee_flexion</th>\n",
       "      <th>Thorax_extension</th>\n",
       "      <th>Thorax_lateral_flexion_rotation</th>\n",
       "    </tr>\n",
       "  </thead>\n",
       "  <tbody>\n",
       "    <tr>\n",
       "      <th>0</th>\n",
       "      <td>3.549500</td>\n",
       "      <td>3.371736</td>\n",
       "      <td>6.512918</td>\n",
       "      <td>-0.027976</td>\n",
       "      <td>-9.991233</td>\n",
       "      <td>4.250910</td>\n",
       "      <td>1.359221</td>\n",
       "    </tr>\n",
       "    <tr>\n",
       "      <th>1</th>\n",
       "      <td>3.535295</td>\n",
       "      <td>3.384024</td>\n",
       "      <td>6.488364</td>\n",
       "      <td>-0.044235</td>\n",
       "      <td>-10.002430</td>\n",
       "      <td>4.234431</td>\n",
       "      <td>1.358340</td>\n",
       "    </tr>\n",
       "    <tr>\n",
       "      <th>2</th>\n",
       "      <td>3.520810</td>\n",
       "      <td>3.393730</td>\n",
       "      <td>6.458497</td>\n",
       "      <td>0.000000</td>\n",
       "      <td>-10.025780</td>\n",
       "      <td>4.219234</td>\n",
       "      <td>1.354973</td>\n",
       "    </tr>\n",
       "    <tr>\n",
       "      <th>3</th>\n",
       "      <td>3.515579</td>\n",
       "      <td>3.396440</td>\n",
       "      <td>6.445703</td>\n",
       "      <td>0.000000</td>\n",
       "      <td>-10.041360</td>\n",
       "      <td>4.213845</td>\n",
       "      <td>1.352576</td>\n",
       "    </tr>\n",
       "    <tr>\n",
       "      <th>4</th>\n",
       "      <td>3.502299</td>\n",
       "      <td>3.399379</td>\n",
       "      <td>6.424006</td>\n",
       "      <td>0.000000</td>\n",
       "      <td>-10.073370</td>\n",
       "      <td>4.209521</td>\n",
       "      <td>1.349454</td>\n",
       "    </tr>\n",
       "    <tr>\n",
       "      <th>...</th>\n",
       "      <td>...</td>\n",
       "      <td>...</td>\n",
       "      <td>...</td>\n",
       "      <td>...</td>\n",
       "      <td>...</td>\n",
       "      <td>...</td>\n",
       "      <td>...</td>\n",
       "    </tr>\n",
       "    <tr>\n",
       "      <th>37822</th>\n",
       "      <td>-7.042944</td>\n",
       "      <td>19.845620</td>\n",
       "      <td>2.196420</td>\n",
       "      <td>-25.599820</td>\n",
       "      <td>-15.201360</td>\n",
       "      <td>-5.448487</td>\n",
       "      <td>-4.488398</td>\n",
       "    </tr>\n",
       "    <tr>\n",
       "      <th>37823</th>\n",
       "      <td>-7.032102</td>\n",
       "      <td>16.464140</td>\n",
       "      <td>1.834937</td>\n",
       "      <td>-25.603310</td>\n",
       "      <td>-14.568030</td>\n",
       "      <td>-5.302969</td>\n",
       "      <td>-4.015072</td>\n",
       "    </tr>\n",
       "    <tr>\n",
       "      <th>37824</th>\n",
       "      <td>-6.960776</td>\n",
       "      <td>10.478350</td>\n",
       "      <td>1.033061</td>\n",
       "      <td>-25.585250</td>\n",
       "      <td>-13.215460</td>\n",
       "      <td>-5.018915</td>\n",
       "      <td>-3.140173</td>\n",
       "    </tr>\n",
       "    <tr>\n",
       "      <th>37825</th>\n",
       "      <td>-6.853118</td>\n",
       "      <td>5.816689</td>\n",
       "      <td>-0.027976</td>\n",
       "      <td>-25.631230</td>\n",
       "      <td>-11.444740</td>\n",
       "      <td>-4.787452</td>\n",
       "      <td>-2.385553</td>\n",
       "    </tr>\n",
       "    <tr>\n",
       "      <th>37826</th>\n",
       "      <td>-6.797543</td>\n",
       "      <td>3.846086</td>\n",
       "      <td>-0.746772</td>\n",
       "      <td>-25.661630</td>\n",
       "      <td>-10.304120</td>\n",
       "      <td>-4.696569</td>\n",
       "      <td>-2.050764</td>\n",
       "    </tr>\n",
       "  </tbody>\n",
       "</table>\n",
       "<p>37827 rows × 7 columns</p>\n",
       "</div>"
      ],
      "text/plain": [
       "       Neck_right-ward_rotation  LeftElbow_flexion  RightElbow_flexion  \\\n",
       "0                      3.549500           3.371736            6.512918   \n",
       "1                      3.535295           3.384024            6.488364   \n",
       "2                      3.520810           3.393730            6.458497   \n",
       "3                      3.515579           3.396440            6.445703   \n",
       "4                      3.502299           3.399379            6.424006   \n",
       "...                         ...                ...                 ...   \n",
       "37822                 -7.042944          19.845620            2.196420   \n",
       "37823                 -7.032102          16.464140            1.834937   \n",
       "37824                 -6.960776          10.478350            1.033061   \n",
       "37825                 -6.853118           5.816689           -0.027976   \n",
       "37826                 -6.797543           3.846086           -0.746772   \n",
       "\n",
       "       LeftKnee_flexion  RightKnee_flexion  Thorax_extension  \\\n",
       "0             -0.027976          -9.991233          4.250910   \n",
       "1             -0.044235         -10.002430          4.234431   \n",
       "2              0.000000         -10.025780          4.219234   \n",
       "3              0.000000         -10.041360          4.213845   \n",
       "4              0.000000         -10.073370          4.209521   \n",
       "...                 ...                ...               ...   \n",
       "37822        -25.599820         -15.201360         -5.448487   \n",
       "37823        -25.603310         -14.568030         -5.302969   \n",
       "37824        -25.585250         -13.215460         -5.018915   \n",
       "37825        -25.631230         -11.444740         -4.787452   \n",
       "37826        -25.661630         -10.304120         -4.696569   \n",
       "\n",
       "       Thorax_lateral_flexion_rotation  \n",
       "0                             1.359221  \n",
       "1                             1.358340  \n",
       "2                             1.354973  \n",
       "3                             1.352576  \n",
       "4                             1.349454  \n",
       "...                                ...  \n",
       "37822                        -4.488398  \n",
       "37823                        -4.015072  \n",
       "37824                        -3.140173  \n",
       "37825                        -2.385553  \n",
       "37826                        -2.050764  \n",
       "\n",
       "[37827 rows x 7 columns]"
      ]
     },
     "execution_count": 4,
     "metadata": {},
     "output_type": "execute_result"
    }
   ],
   "source": [
    "train_df = pd.read_csv(\"/home/RUS_CIP/st179677/project/dataset/5 users/60 FPS - clipped/train.csv\")\n",
    "train_labels = train_df[\"label\"]\n",
    "train_df = train_df[features]\n",
    "\n",
    "test_df = pd.read_csv(\"/home/RUS_CIP/st179677/project/dataset/5 users/60 FPS - clipped/test.csv\")\n",
    "test_labels = test_df[\"label\"]\n",
    "test_df = test_df[features]\n",
    "\n",
    "train_df"
   ]
  },
  {
   "cell_type": "code",
   "execution_count": 5,
   "metadata": {},
   "outputs": [
    {
     "data": {
      "text/html": [
       "<div>\n",
       "<style scoped>\n",
       "    .dataframe tbody tr th:only-of-type {\n",
       "        vertical-align: middle;\n",
       "    }\n",
       "\n",
       "    .dataframe tbody tr th {\n",
       "        vertical-align: top;\n",
       "    }\n",
       "\n",
       "    .dataframe thead th {\n",
       "        text-align: right;\n",
       "    }\n",
       "</style>\n",
       "<table border=\"1\" class=\"dataframe\">\n",
       "  <thead>\n",
       "    <tr style=\"text-align: right;\">\n",
       "      <th></th>\n",
       "      <th>Neck_right-ward_rotation</th>\n",
       "      <th>LeftElbow_flexion</th>\n",
       "      <th>RightElbow_flexion</th>\n",
       "      <th>LeftKnee_flexion</th>\n",
       "      <th>RightKnee_flexion</th>\n",
       "      <th>Thorax_extension</th>\n",
       "      <th>Thorax_lateral_flexion_rotation</th>\n",
       "    </tr>\n",
       "  </thead>\n",
       "  <tbody>\n",
       "    <tr>\n",
       "      <th>0</th>\n",
       "      <td>2.765412</td>\n",
       "      <td>20.814490</td>\n",
       "      <td>30.12619</td>\n",
       "      <td>-8.229175</td>\n",
       "      <td>-13.131230</td>\n",
       "      <td>6.504000</td>\n",
       "      <td>1.627866</td>\n",
       "    </tr>\n",
       "    <tr>\n",
       "      <th>1</th>\n",
       "      <td>2.636559</td>\n",
       "      <td>21.221590</td>\n",
       "      <td>30.88624</td>\n",
       "      <td>-8.038465</td>\n",
       "      <td>-12.906960</td>\n",
       "      <td>6.463595</td>\n",
       "      <td>1.625073</td>\n",
       "    </tr>\n",
       "    <tr>\n",
       "      <th>2</th>\n",
       "      <td>2.508973</td>\n",
       "      <td>21.468310</td>\n",
       "      <td>31.50667</td>\n",
       "      <td>-7.943271</td>\n",
       "      <td>-12.765620</td>\n",
       "      <td>6.425258</td>\n",
       "      <td>1.627737</td>\n",
       "    </tr>\n",
       "    <tr>\n",
       "      <th>3</th>\n",
       "      <td>2.449764</td>\n",
       "      <td>21.518730</td>\n",
       "      <td>31.76913</td>\n",
       "      <td>-7.920478</td>\n",
       "      <td>-12.722180</td>\n",
       "      <td>6.405085</td>\n",
       "      <td>1.628181</td>\n",
       "    </tr>\n",
       "    <tr>\n",
       "      <th>4</th>\n",
       "      <td>2.332213</td>\n",
       "      <td>21.480970</td>\n",
       "      <td>32.18284</td>\n",
       "      <td>-7.882718</td>\n",
       "      <td>-12.654570</td>\n",
       "      <td>6.368090</td>\n",
       "      <td>1.629171</td>\n",
       "    </tr>\n",
       "    <tr>\n",
       "      <th>...</th>\n",
       "      <td>...</td>\n",
       "      <td>...</td>\n",
       "      <td>...</td>\n",
       "      <td>...</td>\n",
       "      <td>...</td>\n",
       "      <td>...</td>\n",
       "      <td>...</td>\n",
       "    </tr>\n",
       "    <tr>\n",
       "      <th>9577</th>\n",
       "      <td>4.687718</td>\n",
       "      <td>6.453425</td>\n",
       "      <td>10.98043</td>\n",
       "      <td>-22.254830</td>\n",
       "      <td>-5.575275</td>\n",
       "      <td>2.471084</td>\n",
       "      <td>-1.660658</td>\n",
       "    </tr>\n",
       "    <tr>\n",
       "      <th>9578</th>\n",
       "      <td>4.459927</td>\n",
       "      <td>7.567453</td>\n",
       "      <td>11.02977</td>\n",
       "      <td>-22.112130</td>\n",
       "      <td>-4.936616</td>\n",
       "      <td>2.437349</td>\n",
       "      <td>-1.303692</td>\n",
       "    </tr>\n",
       "    <tr>\n",
       "      <th>9579</th>\n",
       "      <td>4.323501</td>\n",
       "      <td>8.213532</td>\n",
       "      <td>11.07498</td>\n",
       "      <td>-22.051290</td>\n",
       "      <td>-4.675375</td>\n",
       "      <td>2.496616</td>\n",
       "      <td>-1.127473</td>\n",
       "    </tr>\n",
       "    <tr>\n",
       "      <th>9580</th>\n",
       "      <td>4.081591</td>\n",
       "      <td>9.373895</td>\n",
       "      <td>11.12502</td>\n",
       "      <td>-21.856070</td>\n",
       "      <td>-4.978978</td>\n",
       "      <td>2.689409</td>\n",
       "      <td>-0.686530</td>\n",
       "    </tr>\n",
       "    <tr>\n",
       "      <th>9581</th>\n",
       "      <td>3.732031</td>\n",
       "      <td>10.362440</td>\n",
       "      <td>11.09682</td>\n",
       "      <td>-21.672470</td>\n",
       "      <td>-5.317398</td>\n",
       "      <td>2.845719</td>\n",
       "      <td>-0.181765</td>\n",
       "    </tr>\n",
       "  </tbody>\n",
       "</table>\n",
       "<p>9582 rows × 7 columns</p>\n",
       "</div>"
      ],
      "text/plain": [
       "      Neck_right-ward_rotation  LeftElbow_flexion  RightElbow_flexion  \\\n",
       "0                     2.765412          20.814490            30.12619   \n",
       "1                     2.636559          21.221590            30.88624   \n",
       "2                     2.508973          21.468310            31.50667   \n",
       "3                     2.449764          21.518730            31.76913   \n",
       "4                     2.332213          21.480970            32.18284   \n",
       "...                        ...                ...                 ...   \n",
       "9577                  4.687718           6.453425            10.98043   \n",
       "9578                  4.459927           7.567453            11.02977   \n",
       "9579                  4.323501           8.213532            11.07498   \n",
       "9580                  4.081591           9.373895            11.12502   \n",
       "9581                  3.732031          10.362440            11.09682   \n",
       "\n",
       "      LeftKnee_flexion  RightKnee_flexion  Thorax_extension  \\\n",
       "0            -8.229175         -13.131230          6.504000   \n",
       "1            -8.038465         -12.906960          6.463595   \n",
       "2            -7.943271         -12.765620          6.425258   \n",
       "3            -7.920478         -12.722180          6.405085   \n",
       "4            -7.882718         -12.654570          6.368090   \n",
       "...                ...                ...               ...   \n",
       "9577        -22.254830          -5.575275          2.471084   \n",
       "9578        -22.112130          -4.936616          2.437349   \n",
       "9579        -22.051290          -4.675375          2.496616   \n",
       "9580        -21.856070          -4.978978          2.689409   \n",
       "9581        -21.672470          -5.317398          2.845719   \n",
       "\n",
       "      Thorax_lateral_flexion_rotation  \n",
       "0                            1.627866  \n",
       "1                            1.625073  \n",
       "2                            1.627737  \n",
       "3                            1.628181  \n",
       "4                            1.629171  \n",
       "...                               ...  \n",
       "9577                        -1.660658  \n",
       "9578                        -1.303692  \n",
       "9579                        -1.127473  \n",
       "9580                        -0.686530  \n",
       "9581                        -0.181765  \n",
       "\n",
       "[9582 rows x 7 columns]"
      ]
     },
     "execution_count": 5,
     "metadata": {},
     "output_type": "execute_result"
    }
   ],
   "source": [
    "test_df"
   ]
  },
  {
   "cell_type": "markdown",
   "metadata": {},
   "source": [
    "Scaling the dataset"
   ]
  },
  {
   "cell_type": "code",
   "execution_count": 6,
   "metadata": {},
   "outputs": [
    {
     "data": {
      "text/html": [
       "<div>\n",
       "<style scoped>\n",
       "    .dataframe tbody tr th:only-of-type {\n",
       "        vertical-align: middle;\n",
       "    }\n",
       "\n",
       "    .dataframe tbody tr th {\n",
       "        vertical-align: top;\n",
       "    }\n",
       "\n",
       "    .dataframe thead th {\n",
       "        text-align: right;\n",
       "    }\n",
       "</style>\n",
       "<table border=\"1\" class=\"dataframe\">\n",
       "  <thead>\n",
       "    <tr style=\"text-align: right;\">\n",
       "      <th></th>\n",
       "      <th>Neck_right-ward_rotation</th>\n",
       "      <th>LeftElbow_flexion</th>\n",
       "      <th>RightElbow_flexion</th>\n",
       "      <th>LeftKnee_flexion</th>\n",
       "      <th>RightKnee_flexion</th>\n",
       "      <th>Thorax_extension</th>\n",
       "      <th>Thorax_lateral_flexion_rotation</th>\n",
       "    </tr>\n",
       "  </thead>\n",
       "  <tbody>\n",
       "    <tr>\n",
       "      <th>0</th>\n",
       "      <td>0.017396</td>\n",
       "      <td>-0.930361</td>\n",
       "      <td>-0.716564</td>\n",
       "      <td>0.822575</td>\n",
       "      <td>0.576255</td>\n",
       "      <td>0.610628</td>\n",
       "      <td>0.473599</td>\n",
       "    </tr>\n",
       "    <tr>\n",
       "      <th>1</th>\n",
       "      <td>0.016010</td>\n",
       "      <td>-0.929954</td>\n",
       "      <td>-0.717281</td>\n",
       "      <td>0.822009</td>\n",
       "      <td>0.575842</td>\n",
       "      <td>0.609845</td>\n",
       "      <td>0.473469</td>\n",
       "    </tr>\n",
       "    <tr>\n",
       "      <th>2</th>\n",
       "      <td>0.014597</td>\n",
       "      <td>-0.929633</td>\n",
       "      <td>-0.718154</td>\n",
       "      <td>0.823549</td>\n",
       "      <td>0.574979</td>\n",
       "      <td>0.609123</td>\n",
       "      <td>0.472970</td>\n",
       "    </tr>\n",
       "    <tr>\n",
       "      <th>3</th>\n",
       "      <td>0.014087</td>\n",
       "      <td>-0.929543</td>\n",
       "      <td>-0.718527</td>\n",
       "      <td>0.823549</td>\n",
       "      <td>0.574404</td>\n",
       "      <td>0.608867</td>\n",
       "      <td>0.472616</td>\n",
       "    </tr>\n",
       "    <tr>\n",
       "      <th>4</th>\n",
       "      <td>0.012791</td>\n",
       "      <td>-0.929445</td>\n",
       "      <td>-0.719161</td>\n",
       "      <td>0.823549</td>\n",
       "      <td>0.573222</td>\n",
       "      <td>0.608661</td>\n",
       "      <td>0.472154</td>\n",
       "    </tr>\n",
       "    <tr>\n",
       "      <th>...</th>\n",
       "      <td>...</td>\n",
       "      <td>...</td>\n",
       "      <td>...</td>\n",
       "      <td>...</td>\n",
       "      <td>...</td>\n",
       "      <td>...</td>\n",
       "      <td>...</td>\n",
       "    </tr>\n",
       "    <tr>\n",
       "      <th>37822</th>\n",
       "      <td>-1.015844</td>\n",
       "      <td>-0.384439</td>\n",
       "      <td>-0.842628</td>\n",
       "      <td>-0.067633</td>\n",
       "      <td>0.383842</td>\n",
       "      <td>0.149849</td>\n",
       "      <td>-0.391882</td>\n",
       "    </tr>\n",
       "    <tr>\n",
       "      <th>37823</th>\n",
       "      <td>-1.014786</td>\n",
       "      <td>-0.496497</td>\n",
       "      <td>-0.853185</td>\n",
       "      <td>-0.067755</td>\n",
       "      <td>0.407231</td>\n",
       "      <td>0.156762</td>\n",
       "      <td>-0.321827</td>\n",
       "    </tr>\n",
       "    <tr>\n",
       "      <th>37824</th>\n",
       "      <td>-1.007829</td>\n",
       "      <td>-0.694858</td>\n",
       "      <td>-0.876604</td>\n",
       "      <td>-0.067126</td>\n",
       "      <td>0.457183</td>\n",
       "      <td>0.170257</td>\n",
       "      <td>-0.192337</td>\n",
       "    </tr>\n",
       "    <tr>\n",
       "      <th>37825</th>\n",
       "      <td>-0.997327</td>\n",
       "      <td>-0.849339</td>\n",
       "      <td>-0.907591</td>\n",
       "      <td>-0.068727</td>\n",
       "      <td>0.522576</td>\n",
       "      <td>0.181252</td>\n",
       "      <td>-0.080649</td>\n",
       "    </tr>\n",
       "    <tr>\n",
       "      <th>37826</th>\n",
       "      <td>-0.991906</td>\n",
       "      <td>-0.914642</td>\n",
       "      <td>-0.928584</td>\n",
       "      <td>-0.069785</td>\n",
       "      <td>0.564700</td>\n",
       "      <td>0.185570</td>\n",
       "      <td>-0.031098</td>\n",
       "    </tr>\n",
       "  </tbody>\n",
       "</table>\n",
       "<p>37827 rows × 7 columns</p>\n",
       "</div>"
      ],
      "text/plain": [
       "       Neck_right-ward_rotation  LeftElbow_flexion  RightElbow_flexion  \\\n",
       "0                      0.017396          -0.930361           -0.716564   \n",
       "1                      0.016010          -0.929954           -0.717281   \n",
       "2                      0.014597          -0.929633           -0.718154   \n",
       "3                      0.014087          -0.929543           -0.718527   \n",
       "4                      0.012791          -0.929445           -0.719161   \n",
       "...                         ...                ...                 ...   \n",
       "37822                 -1.015844          -0.384439           -0.842628   \n",
       "37823                 -1.014786          -0.496497           -0.853185   \n",
       "37824                 -1.007829          -0.694858           -0.876604   \n",
       "37825                 -0.997327          -0.849339           -0.907591   \n",
       "37826                 -0.991906          -0.914642           -0.928584   \n",
       "\n",
       "       LeftKnee_flexion  RightKnee_flexion  Thorax_extension  \\\n",
       "0              0.822575           0.576255          0.610628   \n",
       "1              0.822009           0.575842          0.609845   \n",
       "2              0.823549           0.574979          0.609123   \n",
       "3              0.823549           0.574404          0.608867   \n",
       "4              0.823549           0.573222          0.608661   \n",
       "...                 ...                ...               ...   \n",
       "37822         -0.067633           0.383842          0.149849   \n",
       "37823         -0.067755           0.407231          0.156762   \n",
       "37824         -0.067126           0.457183          0.170257   \n",
       "37825         -0.068727           0.522576          0.181252   \n",
       "37826         -0.069785           0.564700          0.185570   \n",
       "\n",
       "       Thorax_lateral_flexion_rotation  \n",
       "0                             0.473599  \n",
       "1                             0.473469  \n",
       "2                             0.472970  \n",
       "3                             0.472616  \n",
       "4                             0.472154  \n",
       "...                                ...  \n",
       "37822                        -0.391882  \n",
       "37823                        -0.321827  \n",
       "37824                        -0.192337  \n",
       "37825                        -0.080649  \n",
       "37826                        -0.031098  \n",
       "\n",
       "[37827 rows x 7 columns]"
      ]
     },
     "execution_count": 6,
     "metadata": {},
     "output_type": "execute_result"
    }
   ],
   "source": [
    "scaler = StandardScaler()\n",
    "train_df = pd.DataFrame(scaler.fit_transform(train_df), columns = train_df.columns, index=train_df.index)\n",
    "\n",
    "# save the scaler\n",
    "dump(scaler, open('scaler.pkl', 'wb'))\n",
    "test_df = pd.DataFrame(scaler.transform(test_df), columns = test_df.columns, index=test_df.index)\n",
    "\n",
    "train_df"
   ]
  },
  {
   "cell_type": "code",
   "execution_count": 7,
   "metadata": {},
   "outputs": [],
   "source": [
    "# Create 51 empty lists with names X0 to X50\n",
    "X0, X1, X2, X3, X4, X5, X6, x0, x1, x2, x3, x4, x5, x6, y_train, y_test = ([] for _ in range(16))"
   ]
  },
  {
   "cell_type": "markdown",
   "metadata": {},
   "source": [
    "Create Sequences from Dataset"
   ]
  },
  {
   "cell_type": "code",
   "execution_count": 8,
   "metadata": {},
   "outputs": [],
   "source": [
    "timesteps = 60\n",
    "step_size = 1  # Adjust this value as needed to control the overlap\n",
    "\n",
    "\"\"\"TRAIN DATA\"\"\"\n",
    "# Iterate over the range of rows in df\n",
    "for i in range(0, train_df.shape[0] - timesteps):\n",
    "    for j in range(7):  # Loop for column indexing\n",
    "        globals()[f'X{j}'].append(train_df.iloc[i:i + timesteps, j])\n",
    "\n",
    "\n",
    "# Iterate over the range of rows in labels_df\n",
    "for i in range(0, train_labels.shape[0] - timesteps):\n",
    "    y_train.append(train_labels.iloc[i + timesteps])\n",
    "\n",
    "\"\"\"TEST DATA\"\"\"\n",
    "# Iterate over the range of rows in df\n",
    "for i in range(0, test_df.shape[0] - timesteps):\n",
    "    for j in range(7):  # Loop for column indexing\n",
    "        globals()[f'x{j}'].append(test_df.iloc[i:i + timesteps, j])\n",
    "\n",
    "\n",
    "# Iterate over the range of rows in labels_df\n",
    "for i in range(0, test_labels.shape[0] - timesteps):\n",
    "     y_test.append(test_labels.iloc[i + timesteps])\n"
   ]
  },
  {
   "cell_type": "code",
   "execution_count": 9,
   "metadata": {},
   "outputs": [
    {
     "data": {
      "text/plain": [
       "(37767, 9522)"
      ]
     },
     "execution_count": 9,
     "metadata": {},
     "output_type": "execute_result"
    }
   ],
   "source": [
    "type(y_train), type(y_test)\n",
    "len(y_train), len(y_test)"
   ]
  },
  {
   "cell_type": "code",
   "execution_count": 10,
   "metadata": {},
   "outputs": [],
   "source": [
    "X0, X1, X2, X3, X4, X5, X6, x0, x1, x2, x3, x4, x5, x6, y_train, y_test = np.array(X0), np.array(X1),  np.array(X2),  np.array(X3),  np.array(X4),  np.array(X5),  np.array(X6), np.array(x0), np.array(x1),  np.array(x2),  np.array(x3),  np.array(x4),  np.array(x5),  np.array(x6),  np.array(y_train), np.array(y_test)"
   ]
  },
  {
   "cell_type": "code",
   "execution_count": 11,
   "metadata": {},
   "outputs": [
    {
     "data": {
      "text/plain": [
       "((37767, 60), (9522, 60))"
      ]
     },
     "execution_count": 11,
     "metadata": {},
     "output_type": "execute_result"
    }
   ],
   "source": [
    "X0.shape, x0.shape\n",
    "\n",
    "# X0 = scaler.fit_transform(X0)"
   ]
  },
  {
   "cell_type": "code",
   "execution_count": 12,
   "metadata": {},
   "outputs": [
    {
     "data": {
      "text/plain": [
       "array([[ 0.01739563,  0.01601   ,  0.01459707, ...,  0.0108171 ,\n",
       "         0.00923931,  0.00814652],\n",
       "       [ 0.01601   ,  0.01459707,  0.01408681, ...,  0.00923931,\n",
       "         0.00814652,  0.00535985],\n",
       "       [ 0.01459707,  0.01408681,  0.01279141, ...,  0.00814652,\n",
       "         0.00535985,  0.00254978],\n",
       "       ...,\n",
       "       [ 0.84678727,  0.84285816,  0.81871773, ..., -1.00492814,\n",
       "        -1.0158439 , -1.01478632],\n",
       "       [ 0.84285816,  0.81871773,  0.79589318, ..., -1.0158439 ,\n",
       "        -1.01478632, -1.00782883],\n",
       "       [ 0.81871773,  0.79589318,  0.73137109, ..., -1.01478632,\n",
       "        -1.00782883, -0.99732733]])"
      ]
     },
     "execution_count": 12,
     "metadata": {},
     "output_type": "execute_result"
    }
   ],
   "source": [
    "X0"
   ]
  },
  {
   "cell_type": "code",
   "execution_count": 13,
   "metadata": {},
   "outputs": [
    {
     "name": "stdout",
     "output_type": "stream",
     "text": [
      "(37767, 60, 7) (9522, 60, 7)\n"
     ]
    }
   ],
   "source": [
    "X_train = np.stack([X0, X1, X2, X3, X4, X5, X6], axis=2)\n",
    "X_test = np.stack([x0, x1, x2, x3, x4, x5, x6], axis=2)\n",
    "print(X_train.shape, X_test.shape)"
   ]
  },
  {
   "cell_type": "code",
   "execution_count": 14,
   "metadata": {},
   "outputs": [],
   "source": [
    "# # convert labels to one hot encoded\n",
    "\n",
    "# encoder = LabelEncoder()\n",
    "# encoder.fit(y)\n",
    "# encoded_Y = encoder.transform(y)\n",
    "\n",
    "# # encode integers to one hot encoded values\n",
    "# Y = to_categorical(encoded_Y)\n",
    "# print(Y)\n",
    "# print(Y.shape)"
   ]
  },
  {
   "cell_type": "markdown",
   "metadata": {},
   "source": [
    "Train-test-validation split"
   ]
  },
  {
   "cell_type": "code",
   "execution_count": 15,
   "metadata": {},
   "outputs": [
    {
     "name": "stdout",
     "output_type": "stream",
     "text": [
      "X train : (33990, 60, 7)\n",
      "y train: (33990,)\n",
      "X test : (9522, 60, 7)\n",
      "y test : (9522,)\n",
      "X val : (3777, 60, 7)\n",
      "y val : (3777,)\n"
     ]
    },
    {
     "data": {
      "text/plain": [
       "{0: 8716, 1: 6758, 2: 6420, 3: 5906, 4: 6190}"
      ]
     },
     "execution_count": 15,
     "metadata": {},
     "output_type": "execute_result"
    }
   ],
   "source": [
    "#splitting dataset into train, test and validation\n",
    "from sklearn.model_selection import train_test_split\n",
    "\n",
    "X_train, X_val, Y_train, Y_val = train_test_split(X_train, y_train, test_size=0.1, random_state=2, stratify=y_train)\n",
    "\n",
    "print(\"X train :\",X_train.shape)\n",
    "print(\"y train:\", Y_train.shape)\n",
    "print(\"X test :\", X_test.shape)\n",
    "print(\"y test :\" ,y_test.shape)\n",
    "print(\"X val :\" ,X_val.shape)\n",
    "print(\"y val :\" ,Y_val.shape)\n",
    "\n",
    "\"\"\"CHECK CLASS DISTRIBUTION\"\"\"\n",
    "unique, counts = np.unique(Y_train, return_counts=True)\n",
    "# unique, counts = np.unique(y_test, return_counts=True)\n",
    "# unique, counts = np.unique(Y_val, return_counts=True)\n",
    "\n",
    "dict(zip(unique, counts))\n"
   ]
  },
  {
   "cell_type": "code",
   "execution_count": 16,
   "metadata": {},
   "outputs": [],
   "source": [
    "from keras.callbacks import ModelCheckpoint, EarlyStopping\n",
    "from keras.callbacks import TensorBoard\n",
    "import time\n",
    "\n",
    "NAME = \"GRU-model-{}\".format(int(time.time()))\n",
    "\n",
    "tensorboard = TensorBoard(log_dir='logs/{}'.format(NAME))\n",
    "\n",
    "filepath_1 = '/home/RUS_CIP/st179677/project/model/models/gru_best_model.h5'\n",
    "checkpoint = ModelCheckpoint(filepath=filepath_1, \n",
    "                             monitor='val_accuracy',\n",
    "                             verbose=1, \n",
    "                             save_best_only=True,\n",
    "                             mode='max')\n",
    "\n",
    "early_stopping = EarlyStopping(monitor='val_accuracy', patience=10, verbose=1)\n",
    "\n",
    "callbacks_list = [early_stopping, tensorboard]"
   ]
  },
  {
   "cell_type": "code",
   "execution_count": 17,
   "metadata": {},
   "outputs": [
    {
     "name": "stdout",
     "output_type": "stream",
     "text": [
      "Model: \"sequential\"\n",
      "_________________________________________________________________\n",
      " Layer (type)                Output Shape              Param #   \n",
      "=================================================================\n",
      " gru (GRU)                   (None, 16)                1200      \n",
      "                                                                 \n",
      " dense (Dense)               (None, 16)                272       \n",
      "                                                                 \n",
      " dense_1 (Dense)             (None, 5)                 85        \n",
      "                                                                 \n",
      "=================================================================\n",
      "Total params: 1557 (6.08 KB)\n",
      "Trainable params: 1557 (6.08 KB)\n",
      "Non-trainable params: 0 (0.00 Byte)\n",
      "_________________________________________________________________\n"
     ]
    },
    {
     "name": "stderr",
     "output_type": "stream",
     "text": [
      "2024-06-26 12:09:46.214581: E external/local_xla/xla/stream_executor/cuda/cuda_driver.cc:274] failed call to cuInit: CUDA_ERROR_COMPAT_NOT_SUPPORTED_ON_DEVICE: forward compatibility was attempted on non supported HW\n",
      "2024-06-26 12:09:46.214608: I external/local_xla/xla/stream_executor/cuda/cuda_diagnostics.cc:129] retrieving CUDA diagnostic information for host: ias-1316\n",
      "2024-06-26 12:09:46.214613: I external/local_xla/xla/stream_executor/cuda/cuda_diagnostics.cc:136] hostname: ias-1316\n",
      "2024-06-26 12:09:46.214715: I external/local_xla/xla/stream_executor/cuda/cuda_diagnostics.cc:159] libcuda reported version is: 535.183.1\n",
      "2024-06-26 12:09:46.214730: I external/local_xla/xla/stream_executor/cuda/cuda_diagnostics.cc:163] kernel reported version is: 535.171.4\n",
      "2024-06-26 12:09:46.214734: E external/local_xla/xla/stream_executor/cuda/cuda_diagnostics.cc:244] kernel version 535.171.4 does not match DSO version 535.183.1 -- cannot find working devices in this configuration\n"
     ]
    }
   ],
   "source": [
    "#GRU Model\n",
    "# \n",
    "gru_model = Sequential()\n",
    "gru_model.add(layers.GRU(16, input_shape=(60,7)))\n",
    "gru_model.add(Dense(16, activation='relu'))\n",
    "gru_model.add(Dense(5, activation='softmax'))\n",
    "gru_model.summary()"
   ]
  },
  {
   "cell_type": "code",
   "execution_count": 18,
   "metadata": {},
   "outputs": [
    {
     "data": {
      "image/png": "[encoded data removed]",
      "text/plain": [
       "<IPython.core.display.Image object>"
      ]
     },
     "execution_count": 18,
     "metadata": {},
     "output_type": "execute_result"
    }
   ],
   "source": [
    "from keras.utils import plot_model\n",
    "plot_model(gru_model,show_shapes= True, show_layer_names= True, to_file='/home/RUS_CIP/st179677/project/model/GRU.png')"
   ]
  },
  {
   "cell_type": "code",
   "execution_count": 19,
   "metadata": {},
   "outputs": [
    {
     "name": "stdout",
     "output_type": "stream",
     "text": [
      "Epoch 1/200\n",
      "1063/1063 [==============================] - 9s 8ms/step - loss: 1.1478 - accuracy: 0.6384 - val_loss: 0.7619 - val_accuracy: 0.7556\n",
      "Epoch 2/200\n",
      "1063/1063 [==============================] - 8s 7ms/step - loss: 0.5825 - accuracy: 0.8109 - val_loss: 0.4601 - val_accuracy: 0.8605\n",
      "Epoch 3/200\n",
      "1063/1063 [==============================] - 8s 7ms/step - loss: 0.3559 - accuracy: 0.8934 - val_loss: 0.2737 - val_accuracy: 0.9222\n",
      "Epoch 4/200\n",
      "1063/1063 [==============================] - 8s 7ms/step - loss: 0.2163 - accuracy: 0.9422 - val_loss: 0.1858 - val_accuracy: 0.9542\n",
      "Epoch 5/200\n",
      "1063/1063 [==============================] - 8s 7ms/step - loss: 0.1593 - accuracy: 0.9589 - val_loss: 0.1554 - val_accuracy: 0.9584\n",
      "Epoch 6/200\n",
      "1063/1063 [==============================] - 7s 7ms/step - loss: 0.1347 - accuracy: 0.9640 - val_loss: 0.1375 - val_accuracy: 0.9637\n",
      "Epoch 7/200\n",
      "1063/1063 [==============================] - 8s 7ms/step - loss: 0.1206 - accuracy: 0.9684 - val_loss: 0.1247 - val_accuracy: 0.9677\n",
      "Epoch 8/200\n",
      "1063/1063 [==============================] - 8s 7ms/step - loss: 0.1112 - accuracy: 0.9706 - val_loss: 0.1158 - val_accuracy: 0.9693\n",
      "Epoch 9/200\n",
      "1063/1063 [==============================] - 8s 7ms/step - loss: 0.1039 - accuracy: 0.9722 - val_loss: 0.1076 - val_accuracy: 0.9714\n",
      "Epoch 10/200\n",
      "1063/1063 [==============================] - 8s 7ms/step - loss: 0.0977 - accuracy: 0.9732 - val_loss: 0.1013 - val_accuracy: 0.9722\n",
      "Epoch 11/200\n",
      "1063/1063 [==============================] - 8s 7ms/step - loss: 0.0918 - accuracy: 0.9740 - val_loss: 0.0953 - val_accuracy: 0.9730\n",
      "Epoch 12/200\n",
      "1063/1063 [==============================] - 8s 7ms/step - loss: 0.0868 - accuracy: 0.9752 - val_loss: 0.0895 - val_accuracy: 0.9735\n",
      "Epoch 13/200\n",
      "1063/1063 [==============================] - 8s 7ms/step - loss: 0.0820 - accuracy: 0.9761 - val_loss: 0.0831 - val_accuracy: 0.9748\n",
      "Epoch 14/200\n",
      "1063/1063 [==============================] - 8s 7ms/step - loss: 0.0777 - accuracy: 0.9771 - val_loss: 0.0781 - val_accuracy: 0.9759\n",
      "Epoch 15/200\n",
      "1063/1063 [==============================] - 8s 7ms/step - loss: 0.0735 - accuracy: 0.9787 - val_loss: 0.0735 - val_accuracy: 0.9778\n",
      "Epoch 16/200\n",
      "1063/1063 [==============================] - 8s 7ms/step - loss: 0.0696 - accuracy: 0.9810 - val_loss: 0.0696 - val_accuracy: 0.9799\n",
      "Epoch 17/200\n",
      "1063/1063 [==============================] - 8s 7ms/step - loss: 0.0658 - accuracy: 0.9817 - val_loss: 0.0652 - val_accuracy: 0.9817\n",
      "Epoch 18/200\n",
      "1063/1063 [==============================] - 8s 7ms/step - loss: 0.0621 - accuracy: 0.9819 - val_loss: 0.0617 - val_accuracy: 0.9812\n",
      "Epoch 19/200\n",
      "1063/1063 [==============================] - 8s 7ms/step - loss: 0.0587 - accuracy: 0.9830 - val_loss: 0.0572 - val_accuracy: 0.9833\n",
      "Epoch 20/200\n",
      "1063/1063 [==============================] - 8s 7ms/step - loss: 0.0553 - accuracy: 0.9849 - val_loss: 0.0548 - val_accuracy: 0.9854\n",
      "Epoch 21/200\n",
      "1063/1063 [==============================] - 8s 7ms/step - loss: 0.0523 - accuracy: 0.9868 - val_loss: 0.0509 - val_accuracy: 0.9881\n",
      "Epoch 22/200\n",
      "1063/1063 [==============================] - 8s 8ms/step - loss: 0.0495 - accuracy: 0.9879 - val_loss: 0.0473 - val_accuracy: 0.9884\n",
      "Epoch 23/200\n",
      "1063/1063 [==============================] - 8s 7ms/step - loss: 0.0469 - accuracy: 0.9887 - val_loss: 0.0457 - val_accuracy: 0.9878\n",
      "Epoch 24/200\n",
      "1063/1063 [==============================] - 8s 7ms/step - loss: 0.0443 - accuracy: 0.9893 - val_loss: 0.0428 - val_accuracy: 0.9881\n",
      "Epoch 25/200\n",
      "1063/1063 [==============================] - 8s 7ms/step - loss: 0.0421 - accuracy: 0.9898 - val_loss: 0.0400 - val_accuracy: 0.9886\n",
      "Epoch 26/200\n",
      "1063/1063 [==============================] - 8s 7ms/step - loss: 0.0400 - accuracy: 0.9898 - val_loss: 0.0381 - val_accuracy: 0.9891\n",
      "Epoch 27/200\n",
      "1063/1063 [==============================] - 8s 7ms/step - loss: 0.0382 - accuracy: 0.9904 - val_loss: 0.0357 - val_accuracy: 0.9899\n",
      "Epoch 28/200\n",
      "1063/1063 [==============================] - 8s 7ms/step - loss: 0.0367 - accuracy: 0.9904 - val_loss: 0.0336 - val_accuracy: 0.9910\n",
      "Epoch 29/200\n",
      "1063/1063 [==============================] - 8s 7ms/step - loss: 0.0350 - accuracy: 0.9908 - val_loss: 0.0319 - val_accuracy: 0.9907\n",
      "Epoch 30/200\n",
      "1063/1063 [==============================] - 8s 7ms/step - loss: 0.0337 - accuracy: 0.9911 - val_loss: 0.0304 - val_accuracy: 0.9907\n",
      "Epoch 31/200\n",
      "1063/1063 [==============================] - 8s 7ms/step - loss: 0.0323 - accuracy: 0.9914 - val_loss: 0.0294 - val_accuracy: 0.9921\n",
      "Epoch 32/200\n",
      "1063/1063 [==============================] - 8s 7ms/step - loss: 0.0312 - accuracy: 0.9916 - val_loss: 0.0284 - val_accuracy: 0.9915\n",
      "Epoch 33/200\n",
      "1063/1063 [==============================] - 8s 7ms/step - loss: 0.0301 - accuracy: 0.9919 - val_loss: 0.0271 - val_accuracy: 0.9926\n",
      "Epoch 34/200\n",
      "1063/1063 [==============================] - 8s 7ms/step - loss: 0.0290 - accuracy: 0.9921 - val_loss: 0.0259 - val_accuracy: 0.9923\n",
      "Epoch 35/200\n",
      "1063/1063 [==============================] - 8s 7ms/step - loss: 0.0286 - accuracy: 0.9920 - val_loss: 0.0248 - val_accuracy: 0.9931\n",
      "Epoch 36/200\n",
      "1063/1063 [==============================] - 8s 7ms/step - loss: 0.0270 - accuracy: 0.9925 - val_loss: 0.0238 - val_accuracy: 0.9926\n",
      "Epoch 37/200\n",
      "1063/1063 [==============================] - 8s 7ms/step - loss: 0.0265 - accuracy: 0.9926 - val_loss: 0.0228 - val_accuracy: 0.9934\n",
      "Epoch 38/200\n",
      "1063/1063 [==============================] - 8s 7ms/step - loss: 0.0254 - accuracy: 0.9929 - val_loss: 0.0223 - val_accuracy: 0.9939\n",
      "Epoch 39/200\n",
      "1063/1063 [==============================] - 8s 7ms/step - loss: 0.0247 - accuracy: 0.9932 - val_loss: 0.0210 - val_accuracy: 0.9929\n",
      "Epoch 40/200\n",
      "1063/1063 [==============================] - 8s 7ms/step - loss: 0.0239 - accuracy: 0.9933 - val_loss: 0.0203 - val_accuracy: 0.9939\n",
      "Epoch 41/200\n",
      "1063/1063 [==============================] - 8s 7ms/step - loss: 0.0230 - accuracy: 0.9938 - val_loss: 0.0205 - val_accuracy: 0.9934\n",
      "Epoch 42/200\n",
      "1063/1063 [==============================] - 8s 7ms/step - loss: 0.0222 - accuracy: 0.9940 - val_loss: 0.0188 - val_accuracy: 0.9950\n",
      "Epoch 43/200\n",
      "1063/1063 [==============================] - 8s 7ms/step - loss: 0.0214 - accuracy: 0.9944 - val_loss: 0.0185 - val_accuracy: 0.9944\n",
      "Epoch 44/200\n",
      "1063/1063 [==============================] - 8s 7ms/step - loss: 0.0212 - accuracy: 0.9945 - val_loss: 0.0176 - val_accuracy: 0.9950\n",
      "Epoch 45/200\n",
      "1063/1063 [==============================] - 8s 7ms/step - loss: 0.0208 - accuracy: 0.9944 - val_loss: 0.0178 - val_accuracy: 0.9950\n",
      "Epoch 46/200\n",
      "1063/1063 [==============================] - 8s 7ms/step - loss: 0.0195 - accuracy: 0.9949 - val_loss: 0.0162 - val_accuracy: 0.9955\n",
      "Epoch 47/200\n",
      "1063/1063 [==============================] - 8s 7ms/step - loss: 0.0189 - accuracy: 0.9948 - val_loss: 0.0158 - val_accuracy: 0.9950\n",
      "Epoch 48/200\n",
      "1063/1063 [==============================] - 8s 7ms/step - loss: 0.0183 - accuracy: 0.9951 - val_loss: 0.0158 - val_accuracy: 0.9952\n",
      "Epoch 49/200\n",
      "1063/1063 [==============================] - 8s 7ms/step - loss: 0.0178 - accuracy: 0.9954 - val_loss: 0.0147 - val_accuracy: 0.9955\n",
      "Epoch 50/200\n",
      "1063/1063 [==============================] - 8s 7ms/step - loss: 0.0182 - accuracy: 0.9955 - val_loss: 0.0146 - val_accuracy: 0.9958\n",
      "Epoch 51/200\n",
      "1063/1063 [==============================] - 8s 7ms/step - loss: 0.0165 - accuracy: 0.9959 - val_loss: 0.0133 - val_accuracy: 0.9968\n",
      "Epoch 52/200\n",
      "1063/1063 [==============================] - 8s 7ms/step - loss: 0.0166 - accuracy: 0.9961 - val_loss: 0.0133 - val_accuracy: 0.9968\n",
      "Epoch 53/200\n",
      "1063/1063 [==============================] - 8s 7ms/step - loss: 0.0155 - accuracy: 0.9964 - val_loss: 0.0126 - val_accuracy: 0.9968\n",
      "Epoch 54/200\n",
      "1063/1063 [==============================] - 8s 7ms/step - loss: 0.0165 - accuracy: 0.9961 - val_loss: 0.0145 - val_accuracy: 0.9963\n",
      "Epoch 55/200\n",
      "1063/1063 [==============================] - 8s 7ms/step - loss: 0.0149 - accuracy: 0.9966 - val_loss: 0.0123 - val_accuracy: 0.9971\n",
      "Epoch 56/200\n",
      "1063/1063 [==============================] - 8s 7ms/step - loss: 0.0152 - accuracy: 0.9963 - val_loss: 0.0120 - val_accuracy: 0.9974\n",
      "Epoch 57/200\n",
      "1063/1063 [==============================] - 8s 7ms/step - loss: 0.0142 - accuracy: 0.9969 - val_loss: 0.0120 - val_accuracy: 0.9974\n",
      "Epoch 58/200\n",
      "1063/1063 [==============================] - 8s 7ms/step - loss: 0.0137 - accuracy: 0.9968 - val_loss: 0.0110 - val_accuracy: 0.9976\n",
      "Epoch 59/200\n",
      "1063/1063 [==============================] - 8s 7ms/step - loss: 0.0152 - accuracy: 0.9963 - val_loss: 0.0125 - val_accuracy: 0.9966\n",
      "Epoch 60/200\n",
      "1063/1063 [==============================] - 8s 7ms/step - loss: 0.0134 - accuracy: 0.9969 - val_loss: 0.0109 - val_accuracy: 0.9971\n",
      "Epoch 61/200\n",
      "1063/1063 [==============================] - 8s 7ms/step - loss: 0.0131 - accuracy: 0.9970 - val_loss: 0.0108 - val_accuracy: 0.9976\n",
      "Epoch 62/200\n",
      "1063/1063 [==============================] - 8s 7ms/step - loss: 0.0129 - accuracy: 0.9971 - val_loss: 0.0104 - val_accuracy: 0.9974\n",
      "Epoch 63/200\n",
      "1063/1063 [==============================] - 8s 7ms/step - loss: 0.0133 - accuracy: 0.9968 - val_loss: 0.0117 - val_accuracy: 0.9966\n",
      "Epoch 64/200\n",
      "1063/1063 [==============================] - 7s 7ms/step - loss: 0.0125 - accuracy: 0.9971 - val_loss: 0.0100 - val_accuracy: 0.9974\n",
      "Epoch 65/200\n",
      "1063/1063 [==============================] - 8s 7ms/step - loss: 0.0125 - accuracy: 0.9971 - val_loss: 0.0102 - val_accuracy: 0.9974\n",
      "Epoch 66/200\n",
      "1063/1063 [==============================] - 8s 7ms/step - loss: 0.0125 - accuracy: 0.9971 - val_loss: 0.0100 - val_accuracy: 0.9979\n",
      "Epoch 67/200\n",
      "1063/1063 [==============================] - 8s 7ms/step - loss: 0.0122 - accuracy: 0.9972 - val_loss: 0.0096 - val_accuracy: 0.9976\n",
      "Epoch 68/200\n",
      "1063/1063 [==============================] - 7s 7ms/step - loss: 0.0123 - accuracy: 0.9971 - val_loss: 0.0188 - val_accuracy: 0.9952\n",
      "Epoch 69/200\n",
      "1063/1063 [==============================] - 8s 7ms/step - loss: 0.0122 - accuracy: 0.9973 - val_loss: 0.0104 - val_accuracy: 0.9976\n",
      "Epoch 70/200\n",
      "1063/1063 [==============================] - 8s 7ms/step - loss: 0.0116 - accuracy: 0.9974 - val_loss: 0.0094 - val_accuracy: 0.9976\n",
      "Epoch 71/200\n",
      "1063/1063 [==============================] - 8s 7ms/step - loss: 0.0115 - accuracy: 0.9973 - val_loss: 0.0097 - val_accuracy: 0.9974\n",
      "Epoch 72/200\n",
      "1063/1063 [==============================] - 8s 7ms/step - loss: 0.0111 - accuracy: 0.9974 - val_loss: 0.0093 - val_accuracy: 0.9976\n",
      "Epoch 73/200\n",
      "1063/1063 [==============================] - 7s 7ms/step - loss: 0.0110 - accuracy: 0.9976 - val_loss: 0.0089 - val_accuracy: 0.9976\n",
      "Epoch 74/200\n",
      "1063/1063 [==============================] - 8s 7ms/step - loss: 0.0118 - accuracy: 0.9973 - val_loss: 0.0099 - val_accuracy: 0.9971\n",
      "Epoch 75/200\n",
      "1063/1063 [==============================] - 8s 7ms/step - loss: 0.0111 - accuracy: 0.9973 - val_loss: 0.0087 - val_accuracy: 0.9976\n",
      "Epoch 76/200\n",
      "1063/1063 [==============================] - 8s 7ms/step - loss: 0.0104 - accuracy: 0.9976 - val_loss: 0.0085 - val_accuracy: 0.9979\n",
      "Epoch 76: early stopping\n"
     ]
    }
   ],
   "source": [
    "#GRU model\n",
    "from keras.optimizers import Adam\n",
    "\n",
    "adam = Adam(learning_rate=0.0001)\n",
    "# chk = ModelCheckpoint('best_model.pkl', monitor='val_acc', save_best_only=True, mode='max', verbose=1)\n",
    "gru_model.compile(loss='sparse_categorical_crossentropy', optimizer=adam, metrics=['accuracy'])\n",
    "gru_history=gru_model.fit(X_train, Y_train ,validation_data=([X_val], Y_val), epochs=200, batch_size=32, callbacks=callbacks_list)"
   ]
  },
  {
   "cell_type": "code",
   "execution_count": 20,
   "metadata": {},
   "outputs": [],
   "source": [
    "# %tensorboard --logdir='logs/'"
   ]
  },
  {
   "cell_type": "code",
   "execution_count": 21,
   "metadata": {},
   "outputs": [
    {
     "name": "stdout",
     "output_type": "stream",
     "text": [
      "dict_keys(['loss', 'accuracy', 'val_loss', 'val_accuracy'])\n"
     ]
    },
    {
     "data": {
      "image/png": "[encoded data removed]",
      "text/plain": [
       "<Figure size 640x480 with 1 Axes>"
      ]
     },
     "metadata": {},
     "output_type": "display_data"
    },
    {
     "data": {
      "image/png": "[encoded data removed]",
      "text/plain": [
       "<Figure size 640x480 with 1 Axes>"
      ]
     },
     "metadata": {},
     "output_type": "display_data"
    }
   ],
   "source": [
    "# list all data in history\n",
    "print(gru_history.history.keys())\n",
    "\n",
    "# summarize history for accuracy\n",
    "plt.plot(gru_history.history['accuracy'])\n",
    "plt.plot(gru_history.history['val_accuracy'])\n",
    "plt.title('GRU : accuracy')\n",
    "plt.ylabel('accuracy')\n",
    "plt.xlabel('epoch')\n",
    "plt.legend(['train', 'validatiion'], loc='lower right')\n",
    "plt.show()\n",
    "\n",
    "# summarize history for loss\n",
    "plt.plot(gru_history.history['loss'])\n",
    "plt.plot(gru_history.history['val_loss'])\n",
    "plt.title('GRU : loss')\n",
    "plt.ylabel('loss')\n",
    "plt.xlabel('epoch')\n",
    "plt.legend(['train', 'validatiion'], loc='upper right')\n",
    "plt.show()"
   ]
  },
  {
   "cell_type": "code",
   "execution_count": 22,
   "metadata": {},
   "outputs": [
    {
     "name": "stdout",
     "output_type": "stream",
     "text": [
      "298/298 [==============================] - 1s 2ms/step\n",
      "Inference time = 0.8098123073577881\n",
      "[4 4 4 ... 4 4 4]\n"
     ]
    },
    {
     "data": {
      "text/plain": [
       "0.96040747742071"
      ]
     },
     "execution_count": 22,
     "metadata": {},
     "output_type": "execute_result"
    }
   ],
   "source": [
    "#predicting on test datset\n",
    "from keras.models import load_model\n",
    "from sklearn.metrics import accuracy_score\n",
    "# model = load_model(model_filepath)\n",
    "start_time = time.time()\n",
    "gru_classify_x=gru_model.predict(X_test)\n",
    "end_time = time.time() - start_time\n",
    "print(f\"Inference time = {end_time}\")\n",
    "# print(classify_x)\n",
    "gru_classes_x=np.argmax(gru_classify_x,axis=1)\n",
    "# y_test= np.argmax(y_test,axis=1)\n",
    "print(gru_classes_x)\n",
    "accuracy = accuracy_score(y_test, gru_classes_x)\n",
    "accuracy"
   ]
  },
  {
   "cell_type": "markdown",
   "metadata": {},
   "source": [
    "Classification Metrics"
   ]
  },
  {
   "cell_type": "code",
   "execution_count": 23,
   "metadata": {},
   "outputs": [
    {
     "data": {
      "image/png": "[encoded data removed]",
      "text/plain": [
       "<Figure size 640x480 with 2 Axes>"
      ]
     },
     "metadata": {},
     "output_type": "display_data"
    },
    {
     "name": "stdout",
     "output_type": "stream",
     "text": [
      "              precision    recall  f1-score   support\n",
      "\n",
      "           0       0.98      0.92      0.95      2443\n",
      "           1       0.94      0.98      0.96      1920\n",
      "           2       0.93      0.96      0.94      1746\n",
      "           3       0.99      0.98      0.98      1514\n",
      "           4       0.97      0.97      0.97      1899\n",
      "\n",
      "    accuracy                           0.96      9522\n",
      "   macro avg       0.96      0.96      0.96      9522\n",
      "weighted avg       0.96      0.96      0.96      9522\n",
      "\n"
     ]
    }
   ],
   "source": [
    "labels = [\"standing\", \"lifting\", \"carrying\", \"keeping\", \"unnatural\"]\n",
    "\n",
    "cm = confusion_matrix(y_test, gru_classes_x)\n",
    "\n",
    "disp = ConfusionMatrixDisplay(confusion_matrix=cm, display_labels=labels)\n",
    "\n",
    "disp.plot(cmap=plt.cm.Blues)\n",
    "plt.show()\n",
    "\n",
    "print(classification_report(y_test, gru_classes_x))"
   ]
  },
  {
   "cell_type": "markdown",
   "metadata": {},
   "source": [
    "Save Model File"
   ]
  },
  {
   "cell_type": "code",
   "execution_count": 24,
   "metadata": {},
   "outputs": [
    {
     "name": "stderr",
     "output_type": "stream",
     "text": [
      "/home/RUS_CIP/st179677/miniconda3/envs/tf_gpu/lib/python3.9/site-packages/keras/src/engine/training.py:3103: UserWarning: You are saving your model as an HDF5 file via `model.save()`. This file format is considered legacy. We recommend using instead the native Keras format, e.g. `model.save('my_model.keras')`.\n",
      "  saving_api.save_model(\n"
     ]
    }
   ],
   "source": [
    "model_filepath=f'/home/RUS_CIP/st179677/project/model/{round(accuracy*100,2)}_gru.h5'\n",
    "\n",
    "gru_model.save(model_filepath)\n",
    "gru_model.save(model_filepath, save_format='h5')"
   ]
  }
 ],
 "metadata": {
  "kernelspec": {
   "display_name": "tensorflow",
   "language": "python",
   "name": "python3"
  },
  "language_info": {
   "codemirror_mode": {
    "name": "ipython",
    "version": 3
   },
   "file_extension": ".py",
   "mimetype": "text/x-python",
   "name": "python",
   "nbconvert_exporter": "python",
   "pygments_lexer": "ipython3",
   "version": "3.9.18"
  }
 },
 "nbformat": 4,
 "nbformat_minor": 2
}
