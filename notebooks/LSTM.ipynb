{
 "cells": [
  {
   "cell_type": "markdown",
   "metadata": {},
   "source": [
    "Random Seeding & Enable Determinism to produce replicable results"
   ]
  },
  {
   "cell_type": "code",
   "execution_count": 1,
   "metadata": {
    "metadata": {}
   },
   "outputs": [
    {
     "name": "stderr",
     "output_type": "stream",
     "text": [
      "2024-06-26 11:58:53.006057: I tensorflow/core/util/port.cc:113] oneDNN custom operations are on. You may see slightly different numerical results due to floating-point round-off errors from different computation orders. To turn them off, set the environment variable `TF_ENABLE_ONEDNN_OPTS=0`.\n",
      "2024-06-26 11:58:53.132367: E external/local_xla/xla/stream_executor/cuda/cuda_dnn.cc:9261] Unable to register cuDNN factory: Attempting to register factory for plugin cuDNN when one has already been registered\n",
      "2024-06-26 11:58:53.132400: E external/local_xla/xla/stream_executor/cuda/cuda_fft.cc:607] Unable to register cuFFT factory: Attempting to register factory for plugin cuFFT when one has already been registered\n",
      "2024-06-26 11:58:53.150781: E external/local_xla/xla/stream_executor/cuda/cuda_blas.cc:1515] Unable to register cuBLAS factory: Attempting to register factory for plugin cuBLAS when one has already been registered\n",
      "2024-06-26 11:58:53.188192: I tensorflow/core/platform/cpu_feature_guard.cc:182] This TensorFlow binary is optimized to use available CPU instructions in performance-critical operations.\n",
      "To enable the following instructions: AVX2 AVX512F AVX512_VNNI AVX512_BF16 FMA, in other operations, rebuild TensorFlow with the appropriate compiler flags.\n",
      "2024-06-26 11:58:53.680831: W tensorflow/compiler/tf2tensorrt/utils/py_utils.cc:38] TF-TRT Warning: Could not find TensorRT\n"
     ]
    }
   ],
   "source": [
    "import tensorflow as tf\n",
    "from tensorflow import keras\n",
    "import os\n",
    "\n",
    "os.environ['TF_ENABLE_ONEDNN_OPTS'] = '0'\n",
    "\n",
    "tf.keras.utils.set_random_seed(1)\n",
    "tf.config.experimental.enable_op_determinism()\n",
    "import time"
   ]
  },
  {
   "cell_type": "markdown",
   "metadata": {},
   "source": [
    "Importing libraries and modules"
   ]
  },
  {
   "cell_type": "code",
   "execution_count": 2,
   "metadata": {
    "metadata": {}
   },
   "outputs": [
    {
     "name": "stdout",
     "output_type": "stream",
     "text": [
      "2.15.0\n"
     ]
    }
   ],
   "source": [
    "import numpy as np\n",
    "import pandas as pd\n",
    "import datetime\n",
    "from sklearn.preprocessing import StandardScaler\n",
    "\n",
    "import matplotlib.pyplot as plt\n",
    "\n",
    "from keras import layers\n",
    "from keras.models import Sequential\n",
    "from keras.layers import LSTM, Dense\n",
    "from pickle import dump\n",
    "\n",
    "from sklearn.metrics import ConfusionMatrixDisplay\n",
    "from sklearn.metrics import confusion_matrix\n",
    "from sklearn.metrics import classification_report\n",
    "print(tf.__version__) \n",
    "# tf.random.set_seed(123)\n",
    "\n",
    "from tensorboard.plugins.hparams import api as hp"
   ]
  },
  {
   "cell_type": "code",
   "execution_count": 3,
   "metadata": {
    "metadata": {}
   },
   "outputs": [],
   "source": [
    "features = [\"Neck_right-ward_rotation\", \"LeftElbow_flexion\", \"RightElbow_flexion\", \"LeftKnee_flexion\", \"RightKnee_flexion\", \"Thorax_extension\", \"Thorax_lateral_flexion_rotation\"]"
   ]
  },
  {
   "cell_type": "markdown",
   "metadata": {},
   "source": [
    "Load Dataset"
   ]
  },
  {
   "cell_type": "code",
   "execution_count": 4,
   "metadata": {
    "metadata": {}
   },
   "outputs": [],
   "source": [
    "# filename = \"dataset.csv\"\n",
    "# filepath = f\"/home/RUS_CIP/st179677/project/dataset/5 users/60 FPS - clipped/{filename}\"\n",
    "\n",
    "# df = pd.read_csv(filepath)\n",
    "# labels_df = df[\"label\"]\n",
    "# # df.drop(df.columns[len(df.columns)-1], axis=1, inplace=True)\n",
    "# # df.drop(df.columns[len(df.columns)-1], axis=1, inplace=True)\n",
    "\n",
    "\n",
    "\n",
    "# df = df[features]\n",
    "# df\n",
    "# # labels_df"
   ]
  },
  {
   "cell_type": "code",
   "execution_count": 5,
   "metadata": {},
   "outputs": [
    {
     "data": {
      "text/html": [
       "<div>\n",
       "<style scoped>\n",
       "    .dataframe tbody tr th:only-of-type {\n",
       "        vertical-align: middle;\n",
       "    }\n",
       "\n",
       "    .dataframe tbody tr th {\n",
       "        vertical-align: top;\n",
       "    }\n",
       "\n",
       "    .dataframe thead th {\n",
       "        text-align: right;\n",
       "    }\n",
       "</style>\n",
       "<table border=\"1\" class=\"dataframe\">\n",
       "  <thead>\n",
       "    <tr style=\"text-align: right;\">\n",
       "      <th></th>\n",
       "      <th>Neck_right-ward_rotation</th>\n",
       "      <th>LeftElbow_flexion</th>\n",
       "      <th>RightElbow_flexion</th>\n",
       "      <th>LeftKnee_flexion</th>\n",
       "      <th>RightKnee_flexion</th>\n",
       "      <th>Thorax_extension</th>\n",
       "      <th>Thorax_lateral_flexion_rotation</th>\n",
       "    </tr>\n",
       "  </thead>\n",
       "  <tbody>\n",
       "    <tr>\n",
       "      <th>0</th>\n",
       "      <td>3.549500</td>\n",
       "      <td>3.371736</td>\n",
       "      <td>6.512918</td>\n",
       "      <td>-0.027976</td>\n",
       "      <td>-9.991233</td>\n",
       "      <td>4.250910</td>\n",
       "      <td>1.359221</td>\n",
       "    </tr>\n",
       "    <tr>\n",
       "      <th>1</th>\n",
       "      <td>3.535295</td>\n",
       "      <td>3.384024</td>\n",
       "      <td>6.488364</td>\n",
       "      <td>-0.044235</td>\n",
       "      <td>-10.002430</td>\n",
       "      <td>4.234431</td>\n",
       "      <td>1.358340</td>\n",
       "    </tr>\n",
       "    <tr>\n",
       "      <th>2</th>\n",
       "      <td>3.520810</td>\n",
       "      <td>3.393730</td>\n",
       "      <td>6.458497</td>\n",
       "      <td>0.000000</td>\n",
       "      <td>-10.025780</td>\n",
       "      <td>4.219234</td>\n",
       "      <td>1.354973</td>\n",
       "    </tr>\n",
       "    <tr>\n",
       "      <th>3</th>\n",
       "      <td>3.515579</td>\n",
       "      <td>3.396440</td>\n",
       "      <td>6.445703</td>\n",
       "      <td>0.000000</td>\n",
       "      <td>-10.041360</td>\n",
       "      <td>4.213845</td>\n",
       "      <td>1.352576</td>\n",
       "    </tr>\n",
       "    <tr>\n",
       "      <th>4</th>\n",
       "      <td>3.502299</td>\n",
       "      <td>3.399379</td>\n",
       "      <td>6.424006</td>\n",
       "      <td>0.000000</td>\n",
       "      <td>-10.073370</td>\n",
       "      <td>4.209521</td>\n",
       "      <td>1.349454</td>\n",
       "    </tr>\n",
       "    <tr>\n",
       "      <th>...</th>\n",
       "      <td>...</td>\n",
       "      <td>...</td>\n",
       "      <td>...</td>\n",
       "      <td>...</td>\n",
       "      <td>...</td>\n",
       "      <td>...</td>\n",
       "      <td>...</td>\n",
       "    </tr>\n",
       "    <tr>\n",
       "      <th>37822</th>\n",
       "      <td>-7.042944</td>\n",
       "      <td>19.845620</td>\n",
       "      <td>2.196420</td>\n",
       "      <td>-25.599820</td>\n",
       "      <td>-15.201360</td>\n",
       "      <td>-5.448487</td>\n",
       "      <td>-4.488398</td>\n",
       "    </tr>\n",
       "    <tr>\n",
       "      <th>37823</th>\n",
       "      <td>-7.032102</td>\n",
       "      <td>16.464140</td>\n",
       "      <td>1.834937</td>\n",
       "      <td>-25.603310</td>\n",
       "      <td>-14.568030</td>\n",
       "      <td>-5.302969</td>\n",
       "      <td>-4.015072</td>\n",
       "    </tr>\n",
       "    <tr>\n",
       "      <th>37824</th>\n",
       "      <td>-6.960776</td>\n",
       "      <td>10.478350</td>\n",
       "      <td>1.033061</td>\n",
       "      <td>-25.585250</td>\n",
       "      <td>-13.215460</td>\n",
       "      <td>-5.018915</td>\n",
       "      <td>-3.140173</td>\n",
       "    </tr>\n",
       "    <tr>\n",
       "      <th>37825</th>\n",
       "      <td>-6.853118</td>\n",
       "      <td>5.816689</td>\n",
       "      <td>-0.027976</td>\n",
       "      <td>-25.631230</td>\n",
       "      <td>-11.444740</td>\n",
       "      <td>-4.787452</td>\n",
       "      <td>-2.385553</td>\n",
       "    </tr>\n",
       "    <tr>\n",
       "      <th>37826</th>\n",
       "      <td>-6.797543</td>\n",
       "      <td>3.846086</td>\n",
       "      <td>-0.746772</td>\n",
       "      <td>-25.661630</td>\n",
       "      <td>-10.304120</td>\n",
       "      <td>-4.696569</td>\n",
       "      <td>-2.050764</td>\n",
       "    </tr>\n",
       "  </tbody>\n",
       "</table>\n",
       "<p>37827 rows × 7 columns</p>\n",
       "</div>"
      ],
      "text/plain": [
       "       Neck_right-ward_rotation  LeftElbow_flexion  RightElbow_flexion  \\\n",
       "0                      3.549500           3.371736            6.512918   \n",
       "1                      3.535295           3.384024            6.488364   \n",
       "2                      3.520810           3.393730            6.458497   \n",
       "3                      3.515579           3.396440            6.445703   \n",
       "4                      3.502299           3.399379            6.424006   \n",
       "...                         ...                ...                 ...   \n",
       "37822                 -7.042944          19.845620            2.196420   \n",
       "37823                 -7.032102          16.464140            1.834937   \n",
       "37824                 -6.960776          10.478350            1.033061   \n",
       "37825                 -6.853118           5.816689           -0.027976   \n",
       "37826                 -6.797543           3.846086           -0.746772   \n",
       "\n",
       "       LeftKnee_flexion  RightKnee_flexion  Thorax_extension  \\\n",
       "0             -0.027976          -9.991233          4.250910   \n",
       "1             -0.044235         -10.002430          4.234431   \n",
       "2              0.000000         -10.025780          4.219234   \n",
       "3              0.000000         -10.041360          4.213845   \n",
       "4              0.000000         -10.073370          4.209521   \n",
       "...                 ...                ...               ...   \n",
       "37822        -25.599820         -15.201360         -5.448487   \n",
       "37823        -25.603310         -14.568030         -5.302969   \n",
       "37824        -25.585250         -13.215460         -5.018915   \n",
       "37825        -25.631230         -11.444740         -4.787452   \n",
       "37826        -25.661630         -10.304120         -4.696569   \n",
       "\n",
       "       Thorax_lateral_flexion_rotation  \n",
       "0                             1.359221  \n",
       "1                             1.358340  \n",
       "2                             1.354973  \n",
       "3                             1.352576  \n",
       "4                             1.349454  \n",
       "...                                ...  \n",
       "37822                        -4.488398  \n",
       "37823                        -4.015072  \n",
       "37824                        -3.140173  \n",
       "37825                        -2.385553  \n",
       "37826                        -2.050764  \n",
       "\n",
       "[37827 rows x 7 columns]"
      ]
     },
     "execution_count": 5,
     "metadata": {},
     "output_type": "execute_result"
    }
   ],
   "source": [
    "train_df = pd.read_csv(\"/home/RUS_CIP/st179677/project/dataset/5 users/60 FPS - clipped/train.csv\")\n",
    "train_labels = train_df[\"label\"]\n",
    "train_df = train_df[features]\n",
    "\n",
    "test_df = pd.read_csv(\"/home/RUS_CIP/st179677/project/dataset/5 users/60 FPS - clipped/test.csv\")\n",
    "test_labels = test_df[\"label\"]\n",
    "test_df = test_df[features]\n",
    "\n",
    "train_df"
   ]
  },
  {
   "cell_type": "code",
   "execution_count": 6,
   "metadata": {},
   "outputs": [
    {
     "data": {
      "text/html": [
       "<div>\n",
       "<style scoped>\n",
       "    .dataframe tbody tr th:only-of-type {\n",
       "        vertical-align: middle;\n",
       "    }\n",
       "\n",
       "    .dataframe tbody tr th {\n",
       "        vertical-align: top;\n",
       "    }\n",
       "\n",
       "    .dataframe thead th {\n",
       "        text-align: right;\n",
       "    }\n",
       "</style>\n",
       "<table border=\"1\" class=\"dataframe\">\n",
       "  <thead>\n",
       "    <tr style=\"text-align: right;\">\n",
       "      <th></th>\n",
       "      <th>Neck_right-ward_rotation</th>\n",
       "      <th>LeftElbow_flexion</th>\n",
       "      <th>RightElbow_flexion</th>\n",
       "      <th>LeftKnee_flexion</th>\n",
       "      <th>RightKnee_flexion</th>\n",
       "      <th>Thorax_extension</th>\n",
       "      <th>Thorax_lateral_flexion_rotation</th>\n",
       "    </tr>\n",
       "  </thead>\n",
       "  <tbody>\n",
       "    <tr>\n",
       "      <th>0</th>\n",
       "      <td>2.765412</td>\n",
       "      <td>20.814490</td>\n",
       "      <td>30.12619</td>\n",
       "      <td>-8.229175</td>\n",
       "      <td>-13.131230</td>\n",
       "      <td>6.504000</td>\n",
       "      <td>1.627866</td>\n",
       "    </tr>\n",
       "    <tr>\n",
       "      <th>1</th>\n",
       "      <td>2.636559</td>\n",
       "      <td>21.221590</td>\n",
       "      <td>30.88624</td>\n",
       "      <td>-8.038465</td>\n",
       "      <td>-12.906960</td>\n",
       "      <td>6.463595</td>\n",
       "      <td>1.625073</td>\n",
       "    </tr>\n",
       "    <tr>\n",
       "      <th>2</th>\n",
       "      <td>2.508973</td>\n",
       "      <td>21.468310</td>\n",
       "      <td>31.50667</td>\n",
       "      <td>-7.943271</td>\n",
       "      <td>-12.765620</td>\n",
       "      <td>6.425258</td>\n",
       "      <td>1.627737</td>\n",
       "    </tr>\n",
       "    <tr>\n",
       "      <th>3</th>\n",
       "      <td>2.449764</td>\n",
       "      <td>21.518730</td>\n",
       "      <td>31.76913</td>\n",
       "      <td>-7.920478</td>\n",
       "      <td>-12.722180</td>\n",
       "      <td>6.405085</td>\n",
       "      <td>1.628181</td>\n",
       "    </tr>\n",
       "    <tr>\n",
       "      <th>4</th>\n",
       "      <td>2.332213</td>\n",
       "      <td>21.480970</td>\n",
       "      <td>32.18284</td>\n",
       "      <td>-7.882718</td>\n",
       "      <td>-12.654570</td>\n",
       "      <td>6.368090</td>\n",
       "      <td>1.629171</td>\n",
       "    </tr>\n",
       "    <tr>\n",
       "      <th>...</th>\n",
       "      <td>...</td>\n",
       "      <td>...</td>\n",
       "      <td>...</td>\n",
       "      <td>...</td>\n",
       "      <td>...</td>\n",
       "      <td>...</td>\n",
       "      <td>...</td>\n",
       "    </tr>\n",
       "    <tr>\n",
       "      <th>9577</th>\n",
       "      <td>4.687718</td>\n",
       "      <td>6.453425</td>\n",
       "      <td>10.98043</td>\n",
       "      <td>-22.254830</td>\n",
       "      <td>-5.575275</td>\n",
       "      <td>2.471084</td>\n",
       "      <td>-1.660658</td>\n",
       "    </tr>\n",
       "    <tr>\n",
       "      <th>9578</th>\n",
       "      <td>4.459927</td>\n",
       "      <td>7.567453</td>\n",
       "      <td>11.02977</td>\n",
       "      <td>-22.112130</td>\n",
       "      <td>-4.936616</td>\n",
       "      <td>2.437349</td>\n",
       "      <td>-1.303692</td>\n",
       "    </tr>\n",
       "    <tr>\n",
       "      <th>9579</th>\n",
       "      <td>4.323501</td>\n",
       "      <td>8.213532</td>\n",
       "      <td>11.07498</td>\n",
       "      <td>-22.051290</td>\n",
       "      <td>-4.675375</td>\n",
       "      <td>2.496616</td>\n",
       "      <td>-1.127473</td>\n",
       "    </tr>\n",
       "    <tr>\n",
       "      <th>9580</th>\n",
       "      <td>4.081591</td>\n",
       "      <td>9.373895</td>\n",
       "      <td>11.12502</td>\n",
       "      <td>-21.856070</td>\n",
       "      <td>-4.978978</td>\n",
       "      <td>2.689409</td>\n",
       "      <td>-0.686530</td>\n",
       "    </tr>\n",
       "    <tr>\n",
       "      <th>9581</th>\n",
       "      <td>3.732031</td>\n",
       "      <td>10.362440</td>\n",
       "      <td>11.09682</td>\n",
       "      <td>-21.672470</td>\n",
       "      <td>-5.317398</td>\n",
       "      <td>2.845719</td>\n",
       "      <td>-0.181765</td>\n",
       "    </tr>\n",
       "  </tbody>\n",
       "</table>\n",
       "<p>9582 rows × 7 columns</p>\n",
       "</div>"
      ],
      "text/plain": [
       "      Neck_right-ward_rotation  LeftElbow_flexion  RightElbow_flexion  \\\n",
       "0                     2.765412          20.814490            30.12619   \n",
       "1                     2.636559          21.221590            30.88624   \n",
       "2                     2.508973          21.468310            31.50667   \n",
       "3                     2.449764          21.518730            31.76913   \n",
       "4                     2.332213          21.480970            32.18284   \n",
       "...                        ...                ...                 ...   \n",
       "9577                  4.687718           6.453425            10.98043   \n",
       "9578                  4.459927           7.567453            11.02977   \n",
       "9579                  4.323501           8.213532            11.07498   \n",
       "9580                  4.081591           9.373895            11.12502   \n",
       "9581                  3.732031          10.362440            11.09682   \n",
       "\n",
       "      LeftKnee_flexion  RightKnee_flexion  Thorax_extension  \\\n",
       "0            -8.229175         -13.131230          6.504000   \n",
       "1            -8.038465         -12.906960          6.463595   \n",
       "2            -7.943271         -12.765620          6.425258   \n",
       "3            -7.920478         -12.722180          6.405085   \n",
       "4            -7.882718         -12.654570          6.368090   \n",
       "...                ...                ...               ...   \n",
       "9577        -22.254830          -5.575275          2.471084   \n",
       "9578        -22.112130          -4.936616          2.437349   \n",
       "9579        -22.051290          -4.675375          2.496616   \n",
       "9580        -21.856070          -4.978978          2.689409   \n",
       "9581        -21.672470          -5.317398          2.845719   \n",
       "\n",
       "      Thorax_lateral_flexion_rotation  \n",
       "0                            1.627866  \n",
       "1                            1.625073  \n",
       "2                            1.627737  \n",
       "3                            1.628181  \n",
       "4                            1.629171  \n",
       "...                               ...  \n",
       "9577                        -1.660658  \n",
       "9578                        -1.303692  \n",
       "9579                        -1.127473  \n",
       "9580                        -0.686530  \n",
       "9581                        -0.181765  \n",
       "\n",
       "[9582 rows x 7 columns]"
      ]
     },
     "execution_count": 6,
     "metadata": {},
     "output_type": "execute_result"
    }
   ],
   "source": [
    "test_df"
   ]
  },
  {
   "cell_type": "code",
   "execution_count": 7,
   "metadata": {
    "metadata": {}
   },
   "outputs": [
    {
     "data": {
      "text/html": [
       "<div>\n",
       "<style scoped>\n",
       "    .dataframe tbody tr th:only-of-type {\n",
       "        vertical-align: middle;\n",
       "    }\n",
       "\n",
       "    .dataframe tbody tr th {\n",
       "        vertical-align: top;\n",
       "    }\n",
       "\n",
       "    .dataframe thead th {\n",
       "        text-align: right;\n",
       "    }\n",
       "</style>\n",
       "<table border=\"1\" class=\"dataframe\">\n",
       "  <thead>\n",
       "    <tr style=\"text-align: right;\">\n",
       "      <th></th>\n",
       "      <th>Neck_right-ward_rotation</th>\n",
       "      <th>LeftElbow_flexion</th>\n",
       "      <th>RightElbow_flexion</th>\n",
       "      <th>LeftKnee_flexion</th>\n",
       "      <th>RightKnee_flexion</th>\n",
       "      <th>Thorax_extension</th>\n",
       "      <th>Thorax_lateral_flexion_rotation</th>\n",
       "    </tr>\n",
       "  </thead>\n",
       "  <tbody>\n",
       "    <tr>\n",
       "      <th>0</th>\n",
       "      <td>0.017396</td>\n",
       "      <td>-0.930361</td>\n",
       "      <td>-0.716564</td>\n",
       "      <td>0.822575</td>\n",
       "      <td>0.576255</td>\n",
       "      <td>0.610628</td>\n",
       "      <td>0.473599</td>\n",
       "    </tr>\n",
       "    <tr>\n",
       "      <th>1</th>\n",
       "      <td>0.016010</td>\n",
       "      <td>-0.929954</td>\n",
       "      <td>-0.717281</td>\n",
       "      <td>0.822009</td>\n",
       "      <td>0.575842</td>\n",
       "      <td>0.609845</td>\n",
       "      <td>0.473469</td>\n",
       "    </tr>\n",
       "    <tr>\n",
       "      <th>2</th>\n",
       "      <td>0.014597</td>\n",
       "      <td>-0.929633</td>\n",
       "      <td>-0.718154</td>\n",
       "      <td>0.823549</td>\n",
       "      <td>0.574979</td>\n",
       "      <td>0.609123</td>\n",
       "      <td>0.472970</td>\n",
       "    </tr>\n",
       "    <tr>\n",
       "      <th>3</th>\n",
       "      <td>0.014087</td>\n",
       "      <td>-0.929543</td>\n",
       "      <td>-0.718527</td>\n",
       "      <td>0.823549</td>\n",
       "      <td>0.574404</td>\n",
       "      <td>0.608867</td>\n",
       "      <td>0.472616</td>\n",
       "    </tr>\n",
       "    <tr>\n",
       "      <th>4</th>\n",
       "      <td>0.012791</td>\n",
       "      <td>-0.929445</td>\n",
       "      <td>-0.719161</td>\n",
       "      <td>0.823549</td>\n",
       "      <td>0.573222</td>\n",
       "      <td>0.608661</td>\n",
       "      <td>0.472154</td>\n",
       "    </tr>\n",
       "    <tr>\n",
       "      <th>...</th>\n",
       "      <td>...</td>\n",
       "      <td>...</td>\n",
       "      <td>...</td>\n",
       "      <td>...</td>\n",
       "      <td>...</td>\n",
       "      <td>...</td>\n",
       "      <td>...</td>\n",
       "    </tr>\n",
       "    <tr>\n",
       "      <th>37822</th>\n",
       "      <td>-1.015844</td>\n",
       "      <td>-0.384439</td>\n",
       "      <td>-0.842628</td>\n",
       "      <td>-0.067633</td>\n",
       "      <td>0.383842</td>\n",
       "      <td>0.149849</td>\n",
       "      <td>-0.391882</td>\n",
       "    </tr>\n",
       "    <tr>\n",
       "      <th>37823</th>\n",
       "      <td>-1.014786</td>\n",
       "      <td>-0.496497</td>\n",
       "      <td>-0.853185</td>\n",
       "      <td>-0.067755</td>\n",
       "      <td>0.407231</td>\n",
       "      <td>0.156762</td>\n",
       "      <td>-0.321827</td>\n",
       "    </tr>\n",
       "    <tr>\n",
       "      <th>37824</th>\n",
       "      <td>-1.007829</td>\n",
       "      <td>-0.694858</td>\n",
       "      <td>-0.876604</td>\n",
       "      <td>-0.067126</td>\n",
       "      <td>0.457183</td>\n",
       "      <td>0.170257</td>\n",
       "      <td>-0.192337</td>\n",
       "    </tr>\n",
       "    <tr>\n",
       "      <th>37825</th>\n",
       "      <td>-0.997327</td>\n",
       "      <td>-0.849339</td>\n",
       "      <td>-0.907591</td>\n",
       "      <td>-0.068727</td>\n",
       "      <td>0.522576</td>\n",
       "      <td>0.181252</td>\n",
       "      <td>-0.080649</td>\n",
       "    </tr>\n",
       "    <tr>\n",
       "      <th>37826</th>\n",
       "      <td>-0.991906</td>\n",
       "      <td>-0.914642</td>\n",
       "      <td>-0.928584</td>\n",
       "      <td>-0.069785</td>\n",
       "      <td>0.564700</td>\n",
       "      <td>0.185570</td>\n",
       "      <td>-0.031098</td>\n",
       "    </tr>\n",
       "  </tbody>\n",
       "</table>\n",
       "<p>37827 rows × 7 columns</p>\n",
       "</div>"
      ],
      "text/plain": [
       "       Neck_right-ward_rotation  LeftElbow_flexion  RightElbow_flexion  \\\n",
       "0                      0.017396          -0.930361           -0.716564   \n",
       "1                      0.016010          -0.929954           -0.717281   \n",
       "2                      0.014597          -0.929633           -0.718154   \n",
       "3                      0.014087          -0.929543           -0.718527   \n",
       "4                      0.012791          -0.929445           -0.719161   \n",
       "...                         ...                ...                 ...   \n",
       "37822                 -1.015844          -0.384439           -0.842628   \n",
       "37823                 -1.014786          -0.496497           -0.853185   \n",
       "37824                 -1.007829          -0.694858           -0.876604   \n",
       "37825                 -0.997327          -0.849339           -0.907591   \n",
       "37826                 -0.991906          -0.914642           -0.928584   \n",
       "\n",
       "       LeftKnee_flexion  RightKnee_flexion  Thorax_extension  \\\n",
       "0              0.822575           0.576255          0.610628   \n",
       "1              0.822009           0.575842          0.609845   \n",
       "2              0.823549           0.574979          0.609123   \n",
       "3              0.823549           0.574404          0.608867   \n",
       "4              0.823549           0.573222          0.608661   \n",
       "...                 ...                ...               ...   \n",
       "37822         -0.067633           0.383842          0.149849   \n",
       "37823         -0.067755           0.407231          0.156762   \n",
       "37824         -0.067126           0.457183          0.170257   \n",
       "37825         -0.068727           0.522576          0.181252   \n",
       "37826         -0.069785           0.564700          0.185570   \n",
       "\n",
       "       Thorax_lateral_flexion_rotation  \n",
       "0                             0.473599  \n",
       "1                             0.473469  \n",
       "2                             0.472970  \n",
       "3                             0.472616  \n",
       "4                             0.472154  \n",
       "...                                ...  \n",
       "37822                        -0.391882  \n",
       "37823                        -0.321827  \n",
       "37824                        -0.192337  \n",
       "37825                        -0.080649  \n",
       "37826                        -0.031098  \n",
       "\n",
       "[37827 rows x 7 columns]"
      ]
     },
     "execution_count": 7,
     "metadata": {},
     "output_type": "execute_result"
    }
   ],
   "source": [
    "scaler = StandardScaler()\n",
    "train_df = pd.DataFrame(scaler.fit_transform(train_df), columns = train_df.columns, index=train_df.index)\n",
    "\n",
    "# save the scaler\n",
    "dump(scaler, open('scaler.pkl', 'wb'))\n",
    "test_df = pd.DataFrame(scaler.transform(test_df), columns = test_df.columns, index=test_df.index)\n",
    "\n",
    "train_df"
   ]
  },
  {
   "cell_type": "markdown",
   "metadata": {},
   "source": [
    "Plotting Distribution of Classes"
   ]
  },
  {
   "cell_type": "code",
   "execution_count": 8,
   "metadata": {
    "metadata": {}
   },
   "outputs": [],
   "source": [
    "# Create 51 empty lists with names X0 to X50\n",
    "X0, X1, X2, X3, X4, X5, X6, x0, x1, x2, x3, x4, x5, x6, y_train, y_test = ([] for _ in range(16))"
   ]
  },
  {
   "cell_type": "markdown",
   "metadata": {},
   "source": [
    "Create Sequences from Dataset"
   ]
  },
  {
   "cell_type": "code",
   "execution_count": 9,
   "metadata": {
    "metadata": {}
   },
   "outputs": [],
   "source": [
    "timesteps = 60\n",
    "step_size = 1  # Adjust this value as needed to control the stride\n",
    "\n",
    "\"\"\"TRAIN DATA\"\"\"\n",
    "# Iterate over the range of rows in df\n",
    "for i in range(0, train_df.shape[0] - timesteps):\n",
    "    for j in range(7):  # Loop for column indexing\n",
    "        globals()[f'X{j}'].append(train_df.iloc[i:i + timesteps, j])\n",
    "\n",
    "# Iterate over the range of rows in labels_df\n",
    "for i in range(0, train_labels.shape[0] - timesteps):\n",
    "    y_train.append(train_labels.iloc[i + timesteps])\n",
    "\n",
    "\"\"\"TEST DATA\"\"\"\n",
    "# Iterate over the range of rows in df\n",
    "for i in range(0, test_df.shape[0] - timesteps):\n",
    "    for j in range(7):  # Loop for column indexing\n",
    "        globals()[f'x{j}'].append(test_df.iloc[i:i + timesteps, j])\n",
    "\n",
    "# Iterate over the range of rows in labels_df\n",
    "for i in range(0, test_labels.shape[0] - timesteps):\n",
    "     y_test.append(test_labels.iloc[i + timesteps])"
   ]
  },
  {
   "cell_type": "code",
   "execution_count": 10,
   "metadata": {
    "metadata": {}
   },
   "outputs": [
    {
     "data": {
      "text/plain": [
       "(37767, 9522)"
      ]
     },
     "execution_count": 10,
     "metadata": {},
     "output_type": "execute_result"
    }
   ],
   "source": [
    "type(y_train), type(y_test)\n",
    "len(y_train), len(y_test)"
   ]
  },
  {
   "cell_type": "code",
   "execution_count": 11,
   "metadata": {
    "metadata": {}
   },
   "outputs": [],
   "source": [
    "X0, X1, X2, X3, X4, X5, X6, x0, x1, x2, x3, x4, x5, x6, y_train, y_test = np.array(X0), np.array(X1),  np.array(X2),  np.array(X3),  np.array(X4),  np.array(X5),  np.array(X6), np.array(x0), np.array(x1),  np.array(x2),  np.array(x3),  np.array(x4),  np.array(x5),  np.array(x6), np.array(y_train), np.array(y_test)"
   ]
  },
  {
   "cell_type": "code",
   "execution_count": 12,
   "metadata": {
    "metadata": {}
   },
   "outputs": [
    {
     "data": {
      "text/plain": [
       "((37767, 60), (9522, 60))"
      ]
     },
     "execution_count": 12,
     "metadata": {},
     "output_type": "execute_result"
    }
   ],
   "source": [
    "X0.shape, x0.shape"
   ]
  },
  {
   "cell_type": "code",
   "execution_count": 13,
   "metadata": {
    "metadata": {}
   },
   "outputs": [
    {
     "data": {
      "text/plain": [
       "array([[ 0.01739563,  0.01601   ,  0.01459707, ...,  0.0108171 ,\n",
       "         0.00923931,  0.00814652],\n",
       "       [ 0.01601   ,  0.01459707,  0.01408681, ...,  0.00923931,\n",
       "         0.00814652,  0.00535985],\n",
       "       [ 0.01459707,  0.01408681,  0.01279141, ...,  0.00814652,\n",
       "         0.00535985,  0.00254978],\n",
       "       ...,\n",
       "       [ 0.84678727,  0.84285816,  0.81871773, ..., -1.00492814,\n",
       "        -1.0158439 , -1.01478632],\n",
       "       [ 0.84285816,  0.81871773,  0.79589318, ..., -1.0158439 ,\n",
       "        -1.01478632, -1.00782883],\n",
       "       [ 0.81871773,  0.79589318,  0.73137109, ..., -1.01478632,\n",
       "        -1.00782883, -0.99732733]])"
      ]
     },
     "execution_count": 13,
     "metadata": {},
     "output_type": "execute_result"
    }
   ],
   "source": [
    "X0"
   ]
  },
  {
   "cell_type": "code",
   "execution_count": 14,
   "metadata": {
    "metadata": {}
   },
   "outputs": [
    {
     "name": "stdout",
     "output_type": "stream",
     "text": [
      "(37767, 60, 7) (9522, 60, 7)\n"
     ]
    }
   ],
   "source": [
    "X_train = np.stack([X0, X1, X2, X3, X4, X5, X6], axis=2)\n",
    "X_test = np.stack([x0, x1, x2, x3, x4, x5, x6], axis=2)\n",
    "print(X_train.shape, X_test.shape)"
   ]
  },
  {
   "cell_type": "code",
   "execution_count": 15,
   "metadata": {
    "metadata": {}
   },
   "outputs": [
    {
     "name": "stdout",
     "output_type": "stream",
     "text": [
      "X train : (33990, 60, 7)\n",
      "y train: (33990,)\n",
      "X test : (9522, 60, 7)\n",
      "y test : (9522,)\n",
      "X val : (3777, 60, 7)\n",
      "y val : (3777,)\n"
     ]
    },
    {
     "data": {
      "text/plain": [
       "{0: 8716, 1: 6758, 2: 6420, 3: 5906, 4: 6190}"
      ]
     },
     "execution_count": 15,
     "metadata": {},
     "output_type": "execute_result"
    }
   ],
   "source": [
    "#splitting dataset into train, test and validation\n",
    "from sklearn.model_selection import train_test_split\n",
    "\n",
    "X_train, X_val, Y_train, Y_val = train_test_split(X_train, y_train, test_size=0.1, random_state=2, stratify=y_train)\n",
    "\n",
    "print(\"X train :\",X_train.shape)\n",
    "print(\"y train:\", Y_train.shape)\n",
    "print(\"X test :\", X_test.shape)\n",
    "print(\"y test :\" ,y_test.shape)\n",
    "print(\"X val :\" ,X_val.shape)\n",
    "print(\"y val :\" ,Y_val.shape)"
   ]
  },
  {
   "cell_type": "code",
   "execution_count": 16,
   "metadata": {
    "metadata": {}
   },
   "outputs": [
    {
     "name": "stdout",
     "output_type": "stream",
     "text": [
      "Model: \"sequential\"\n",
      "_________________________________________________________________\n",
      " Layer (type)                Output Shape              Param #   \n",
      "=================================================================\n",
      " lstm (LSTM)                 (None, 16)                1536      \n",
      "                                                                 \n",
      " dense (Dense)               (None, 16)                272       \n",
      "                                                                 \n",
      " dense_1 (Dense)             (None, 5)                 85        \n",
      "                                                                 \n",
      "=================================================================\n",
      "Total params: 1893 (7.39 KB)\n",
      "Trainable params: 1893 (7.39 KB)\n",
      "Non-trainable params: 0 (0.00 Byte)\n",
      "_________________________________________________________________\n"
     ]
    },
    {
     "name": "stderr",
     "output_type": "stream",
     "text": [
      "2024-06-26 11:59:08.754066: E external/local_xla/xla/stream_executor/cuda/cuda_driver.cc:274] failed call to cuInit: CUDA_ERROR_COMPAT_NOT_SUPPORTED_ON_DEVICE: forward compatibility was attempted on non supported HW\n",
      "2024-06-26 11:59:08.754093: I external/local_xla/xla/stream_executor/cuda/cuda_diagnostics.cc:129] retrieving CUDA diagnostic information for host: ias-1316\n",
      "2024-06-26 11:59:08.754098: I external/local_xla/xla/stream_executor/cuda/cuda_diagnostics.cc:136] hostname: ias-1316\n",
      "2024-06-26 11:59:08.754188: I external/local_xla/xla/stream_executor/cuda/cuda_diagnostics.cc:159] libcuda reported version is: 535.183.1\n",
      "2024-06-26 11:59:08.754203: I external/local_xla/xla/stream_executor/cuda/cuda_diagnostics.cc:163] kernel reported version is: 535.171.4\n",
      "2024-06-26 11:59:08.754207: E external/local_xla/xla/stream_executor/cuda/cuda_diagnostics.cc:244] kernel version 535.171.4 does not match DSO version 535.183.1 -- cannot find working devices in this configuration\n"
     ]
    }
   ],
   "source": [
    "#LSTM Model\n",
    "\n",
    "model = Sequential()\n",
    "model.add(LSTM(16, input_shape=(60,7), return_sequences=False))\n",
    "model.add(Dense(16, activation='relu'))\n",
    "model.add(Dense(5, activation='softmax'))\n",
    "model.summary()"
   ]
  },
  {
   "cell_type": "code",
   "execution_count": 17,
   "metadata": {
    "metadata": {}
   },
   "outputs": [
    {
     "data": {
      "image/png": "[encoded data removed]",
      "text/plain": [
       "<IPython.core.display.Image object>"
      ]
     },
     "execution_count": 17,
     "metadata": {},
     "output_type": "execute_result"
    }
   ],
   "source": [
    "from keras.utils import plot_model\n",
    "plot_model(model,show_shapes= True, show_layer_names= True, to_file='/home/RUS_CIP/st179677/project/LSTM.png')"
   ]
  },
  {
   "cell_type": "code",
   "execution_count": 18,
   "metadata": {
    "metadata": {}
   },
   "outputs": [],
   "source": [
    "from keras.callbacks import ModelCheckpoint, EarlyStopping\n",
    "filepath_1 = '/home/RUS_CIP/st179677/project/model/models/LSTM/lstm_best_model.h5'\n",
    "\n",
    "\n",
    "logdir = os.path.join(\"logs\", datetime.datetime.now().strftime(\"softmax_%Y_%m_%d-%H_%M_%S\"))\n",
    "tensorboard_callback = tf.keras.callbacks.TensorBoard(logdir, histogram_freq=1)\n",
    "\n",
    "checkpoint = ModelCheckpoint(filepath=filepath_1, \n",
    "                             monitor='val_accuracy',\n",
    "                             verbose=1, \n",
    "                             save_best_only=True,\n",
    "                             mode='max')\n",
    "\n",
    "early_stopping = EarlyStopping(monitor='val_accuracy', patience=10, verbose=1)\n",
    "\n",
    "callbacks_list = [checkpoint, tensorboard_callback, early_stopping] "
   ]
  },
  {
   "cell_type": "code",
   "execution_count": 19,
   "metadata": {
    "metadata": {}
   },
   "outputs": [
    {
     "name": "stdout",
     "output_type": "stream",
     "text": [
      "Epoch 1/200\n",
      "1060/1063 [============================>.] - ETA: 0s - loss: 1.2187 - accuracy: 0.6239\n",
      "Epoch 1: val_accuracy improved from -inf to 0.81149, saving model to /home/RUS_CIP/st179677/project/model/models/LSTM/lstm_best_model.h5\n",
      "1063/1063 [==============================] - 8s 7ms/step - loss: 1.2177 - accuracy: 0.6244 - val_loss: 0.7865 - val_accuracy: 0.8115\n",
      "Epoch 2/200\n",
      "  18/1063 [..............................] - ETA: 6s - loss: 0.7911 - accuracy: 0.8021"
     ]
    },
    {
     "name": "stderr",
     "output_type": "stream",
     "text": [
      "/home/RUS_CIP/st179677/miniconda3/envs/tf_gpu/lib/python3.9/site-packages/keras/src/engine/training.py:3103: UserWarning: You are saving your model as an HDF5 file via `model.save()`. This file format is considered legacy. We recommend using instead the native Keras format, e.g. `model.save('my_model.keras')`.\n",
      "  saving_api.save_model(\n"
     ]
    },
    {
     "name": "stdout",
     "output_type": "stream",
     "text": [
      "1063/1063 [==============================] - ETA: 0s - loss: 0.4701 - accuracy: 0.9004\n",
      "Epoch 2: val_accuracy improved from 0.81149 to 0.94149, saving model to /home/RUS_CIP/st179677/project/model/models/LSTM/lstm_best_model.h5\n",
      "1063/1063 [==============================] - 7s 6ms/step - loss: 0.4701 - accuracy: 0.9004 - val_loss: 0.2693 - val_accuracy: 0.9415\n",
      "Epoch 3/200\n",
      "1058/1063 [============================>.] - ETA: 0s - loss: 0.1909 - accuracy: 0.9634\n",
      "Epoch 3: val_accuracy improved from 0.94149 to 0.96929, saving model to /home/RUS_CIP/st179677/project/model/models/LSTM/lstm_best_model.h5\n",
      "1063/1063 [==============================] - 7s 6ms/step - loss: 0.1908 - accuracy: 0.9635 - val_loss: 0.1486 - val_accuracy: 0.9693\n",
      "Epoch 4/200\n",
      "1061/1063 [============================>.] - ETA: 0s - loss: 0.1227 - accuracy: 0.9794\n",
      "Epoch 4: val_accuracy improved from 0.96929 to 0.97935, saving model to /home/RUS_CIP/st179677/project/model/models/LSTM/lstm_best_model.h5\n",
      "1063/1063 [==============================] - 7s 6ms/step - loss: 0.1226 - accuracy: 0.9794 - val_loss: 0.1073 - val_accuracy: 0.9793\n",
      "Epoch 5/200\n",
      "1059/1063 [============================>.] - ETA: 0s - loss: 0.0960 - accuracy: 0.9824\n",
      "Epoch 5: val_accuracy improved from 0.97935 to 0.98253, saving model to /home/RUS_CIP/st179677/project/model/models/LSTM/lstm_best_model.h5\n",
      "1063/1063 [==============================] - 7s 6ms/step - loss: 0.0958 - accuracy: 0.9824 - val_loss: 0.0855 - val_accuracy: 0.9825\n",
      "Epoch 6/200\n",
      "1059/1063 [============================>.] - ETA: 0s - loss: 0.0807 - accuracy: 0.9842\n",
      "Epoch 6: val_accuracy improved from 0.98253 to 0.98676, saving model to /home/RUS_CIP/st179677/project/model/models/LSTM/lstm_best_model.h5\n",
      "1063/1063 [==============================] - 7s 6ms/step - loss: 0.0806 - accuracy: 0.9843 - val_loss: 0.0705 - val_accuracy: 0.9868\n",
      "Epoch 7/200\n",
      "1056/1063 [============================>.] - ETA: 0s - loss: 0.0709 - accuracy: 0.9856\n",
      "Epoch 7: val_accuracy improved from 0.98676 to 0.98782, saving model to /home/RUS_CIP/st179677/project/model/models/LSTM/lstm_best_model.h5\n",
      "1063/1063 [==============================] - 7s 6ms/step - loss: 0.0706 - accuracy: 0.9856 - val_loss: 0.0621 - val_accuracy: 0.9878\n",
      "Epoch 8/200\n",
      "1060/1063 [============================>.] - ETA: 0s - loss: 0.0630 - accuracy: 0.9864\n",
      "Epoch 8: val_accuracy improved from 0.98782 to 0.98809, saving model to /home/RUS_CIP/st179677/project/model/models/LSTM/lstm_best_model.h5\n",
      "1063/1063 [==============================] - 7s 6ms/step - loss: 0.0629 - accuracy: 0.9864 - val_loss: 0.0568 - val_accuracy: 0.9881\n",
      "Epoch 9/200\n",
      "1063/1063 [==============================] - ETA: 0s - loss: 0.0580 - accuracy: 0.9874\n",
      "Epoch 9: val_accuracy did not improve from 0.98809\n",
      "1063/1063 [==============================] - 7s 6ms/step - loss: 0.0580 - accuracy: 0.9874 - val_loss: 0.0541 - val_accuracy: 0.9868\n",
      "Epoch 10/200\n",
      "1061/1063 [============================>.] - ETA: 0s - loss: 0.0548 - accuracy: 0.9876\n",
      "Epoch 10: val_accuracy improved from 0.98809 to 0.98862, saving model to /home/RUS_CIP/st179677/project/model/models/LSTM/lstm_best_model.h5\n",
      "1063/1063 [==============================] - 7s 6ms/step - loss: 0.0547 - accuracy: 0.9876 - val_loss: 0.0499 - val_accuracy: 0.9886\n",
      "Epoch 11/200\n",
      "1058/1063 [============================>.] - ETA: 0s - loss: 0.0512 - accuracy: 0.9880\n",
      "Epoch 11: val_accuracy did not improve from 0.98862\n",
      "1063/1063 [==============================] - 7s 6ms/step - loss: 0.0513 - accuracy: 0.9880 - val_loss: 0.0461 - val_accuracy: 0.9881\n",
      "Epoch 12/200\n",
      "1058/1063 [============================>.] - ETA: 0s - loss: 0.0488 - accuracy: 0.9884\n",
      "Epoch 12: val_accuracy did not improve from 0.98862\n",
      "1063/1063 [==============================] - 7s 6ms/step - loss: 0.0488 - accuracy: 0.9883 - val_loss: 0.0449 - val_accuracy: 0.9884\n",
      "Epoch 13/200\n",
      "1060/1063 [============================>.] - ETA: 0s - loss: 0.0469 - accuracy: 0.9886\n",
      "Epoch 13: val_accuracy improved from 0.98862 to 0.98888, saving model to /home/RUS_CIP/st179677/project/model/models/LSTM/lstm_best_model.h5\n",
      "1063/1063 [==============================] - 7s 6ms/step - loss: 0.0469 - accuracy: 0.9886 - val_loss: 0.0430 - val_accuracy: 0.9889\n",
      "Epoch 14/200\n",
      "1061/1063 [============================>.] - ETA: 0s - loss: 0.0447 - accuracy: 0.9886\n",
      "Epoch 14: val_accuracy improved from 0.98888 to 0.98967, saving model to /home/RUS_CIP/st179677/project/model/models/LSTM/lstm_best_model.h5\n",
      "1063/1063 [==============================] - 7s 6ms/step - loss: 0.0447 - accuracy: 0.9886 - val_loss: 0.0397 - val_accuracy: 0.9897\n",
      "Epoch 15/200\n",
      "1058/1063 [============================>.] - ETA: 0s - loss: 0.0415 - accuracy: 0.9895\n",
      "Epoch 15: val_accuracy did not improve from 0.98967\n",
      "1063/1063 [==============================] - 7s 6ms/step - loss: 0.0414 - accuracy: 0.9896 - val_loss: 0.0386 - val_accuracy: 0.9894\n",
      "Epoch 16/200\n",
      "1057/1063 [============================>.] - ETA: 0s - loss: 0.0397 - accuracy: 0.9896\n",
      "Epoch 16: val_accuracy improved from 0.98967 to 0.99020, saving model to /home/RUS_CIP/st179677/project/model/models/LSTM/lstm_best_model.h5\n",
      "1063/1063 [==============================] - 7s 6ms/step - loss: 0.0395 - accuracy: 0.9897 - val_loss: 0.0367 - val_accuracy: 0.9902\n",
      "Epoch 17/200\n",
      "1061/1063 [============================>.] - ETA: 0s - loss: 0.0373 - accuracy: 0.9901\n",
      "Epoch 17: val_accuracy did not improve from 0.99020\n",
      "1063/1063 [==============================] - 7s 6ms/step - loss: 0.0373 - accuracy: 0.9901 - val_loss: 0.0363 - val_accuracy: 0.9897\n",
      "Epoch 18/200\n",
      "1057/1063 [============================>.] - ETA: 0s - loss: 0.0368 - accuracy: 0.9903\n",
      "Epoch 18: val_accuracy did not improve from 0.99020\n",
      "1063/1063 [==============================] - 7s 6ms/step - loss: 0.0371 - accuracy: 0.9903 - val_loss: 0.0339 - val_accuracy: 0.9902\n",
      "Epoch 19/200\n",
      "1057/1063 [============================>.] - ETA: 0s - loss: 0.0333 - accuracy: 0.9912\n",
      "Epoch 19: val_accuracy improved from 0.99020 to 0.99073, saving model to /home/RUS_CIP/st179677/project/model/models/LSTM/lstm_best_model.h5\n",
      "1063/1063 [==============================] - 7s 6ms/step - loss: 0.0333 - accuracy: 0.9911 - val_loss: 0.0315 - val_accuracy: 0.9907\n",
      "Epoch 20/200\n",
      "1056/1063 [============================>.] - ETA: 0s - loss: 0.0328 - accuracy: 0.9909\n",
      "Epoch 20: val_accuracy did not improve from 0.99073\n",
      "1063/1063 [==============================] - 7s 6ms/step - loss: 0.0327 - accuracy: 0.9909 - val_loss: 0.0306 - val_accuracy: 0.9905\n",
      "Epoch 21/200\n",
      "1058/1063 [============================>.] - ETA: 0s - loss: 0.0323 - accuracy: 0.9911\n",
      "Epoch 21: val_accuracy improved from 0.99073 to 0.99179, saving model to /home/RUS_CIP/st179677/project/model/models/LSTM/lstm_best_model.h5\n",
      "1063/1063 [==============================] - 7s 6ms/step - loss: 0.0322 - accuracy: 0.9911 - val_loss: 0.0285 - val_accuracy: 0.9918\n",
      "Epoch 22/200\n",
      "1061/1063 [============================>.] - ETA: 0s - loss: 0.0285 - accuracy: 0.9929\n",
      "Epoch 22: val_accuracy improved from 0.99179 to 0.99232, saving model to /home/RUS_CIP/st179677/project/model/models/LSTM/lstm_best_model.h5\n",
      "1063/1063 [==============================] - 7s 6ms/step - loss: 0.0284 - accuracy: 0.9929 - val_loss: 0.0256 - val_accuracy: 0.9923\n",
      "Epoch 23/200\n",
      "1058/1063 [============================>.] - ETA: 0s - loss: 0.0274 - accuracy: 0.9933\n",
      "Epoch 23: val_accuracy improved from 0.99232 to 0.99338, saving model to /home/RUS_CIP/st179677/project/model/models/LSTM/lstm_best_model.h5\n",
      "1063/1063 [==============================] - 7s 6ms/step - loss: 0.0274 - accuracy: 0.9934 - val_loss: 0.0251 - val_accuracy: 0.9934\n",
      "Epoch 24/200\n",
      "1055/1063 [============================>.] - ETA: 0s - loss: 0.0262 - accuracy: 0.9936\n",
      "Epoch 24: val_accuracy improved from 0.99338 to 0.99391, saving model to /home/RUS_CIP/st179677/project/model/models/LSTM/lstm_best_model.h5\n",
      "1063/1063 [==============================] - 7s 6ms/step - loss: 0.0262 - accuracy: 0.9935 - val_loss: 0.0240 - val_accuracy: 0.9939\n",
      "Epoch 25/200\n",
      "1061/1063 [============================>.] - ETA: 0s - loss: 0.0247 - accuracy: 0.9938\n",
      "Epoch 25: val_accuracy did not improve from 0.99391\n",
      "1063/1063 [==============================] - 7s 6ms/step - loss: 0.0247 - accuracy: 0.9939 - val_loss: 0.0233 - val_accuracy: 0.9934\n",
      "Epoch 26/200\n",
      "1063/1063 [==============================] - ETA: 0s - loss: 0.0240 - accuracy: 0.9938\n",
      "Epoch 26: val_accuracy did not improve from 0.99391\n",
      "1063/1063 [==============================] - 7s 6ms/step - loss: 0.0240 - accuracy: 0.9938 - val_loss: 0.0232 - val_accuracy: 0.9939\n",
      "Epoch 27/200\n",
      "1062/1063 [============================>.] - ETA: 0s - loss: 0.0237 - accuracy: 0.9939\n",
      "Epoch 27: val_accuracy did not improve from 0.99391\n",
      "1063/1063 [==============================] - 7s 6ms/step - loss: 0.0237 - accuracy: 0.9939 - val_loss: 0.0213 - val_accuracy: 0.9936\n",
      "Epoch 28/200\n",
      "1062/1063 [============================>.] - ETA: 0s - loss: 0.0220 - accuracy: 0.9944\n",
      "Epoch 28: val_accuracy improved from 0.99391 to 0.99444, saving model to /home/RUS_CIP/st179677/project/model/models/LSTM/lstm_best_model.h5\n",
      "1063/1063 [==============================] - 6s 6ms/step - loss: 0.0220 - accuracy: 0.9944 - val_loss: 0.0199 - val_accuracy: 0.9944\n",
      "Epoch 29/200\n",
      "1060/1063 [============================>.] - ETA: 0s - loss: 0.0234 - accuracy: 0.9938\n",
      "Epoch 29: val_accuracy did not improve from 0.99444\n",
      "1063/1063 [==============================] - 7s 7ms/step - loss: 0.0234 - accuracy: 0.9939 - val_loss: 0.0199 - val_accuracy: 0.9942\n",
      "Epoch 30/200\n",
      "1061/1063 [============================>.] - ETA: 0s - loss: 0.0206 - accuracy: 0.9946\n",
      "Epoch 30: val_accuracy improved from 0.99444 to 0.99470, saving model to /home/RUS_CIP/st179677/project/model/models/LSTM/lstm_best_model.h5\n",
      "1063/1063 [==============================] - 7s 6ms/step - loss: 0.0206 - accuracy: 0.9946 - val_loss: 0.0192 - val_accuracy: 0.9947\n",
      "Epoch 31/200\n",
      "1058/1063 [============================>.] - ETA: 0s - loss: 0.0204 - accuracy: 0.9945\n",
      "Epoch 31: val_accuracy improved from 0.99470 to 0.99497, saving model to /home/RUS_CIP/st179677/project/model/models/LSTM/lstm_best_model.h5\n",
      "1063/1063 [==============================] - 7s 6ms/step - loss: 0.0203 - accuracy: 0.9946 - val_loss: 0.0193 - val_accuracy: 0.9950\n",
      "Epoch 32/200\n",
      "1056/1063 [============================>.] - ETA: 0s - loss: 0.0201 - accuracy: 0.9948\n",
      "Epoch 32: val_accuracy did not improve from 0.99497\n",
      "1063/1063 [==============================] - 7s 6ms/step - loss: 0.0202 - accuracy: 0.9948 - val_loss: 0.0191 - val_accuracy: 0.9950\n",
      "Epoch 33/200\n",
      "1060/1063 [============================>.] - ETA: 0s - loss: 0.0197 - accuracy: 0.9946\n",
      "Epoch 33: val_accuracy improved from 0.99497 to 0.99550, saving model to /home/RUS_CIP/st179677/project/model/models/LSTM/lstm_best_model.h5\n",
      "1063/1063 [==============================] - 7s 6ms/step - loss: 0.0196 - accuracy: 0.9946 - val_loss: 0.0174 - val_accuracy: 0.9955\n",
      "Epoch 34/200\n",
      "1059/1063 [============================>.] - ETA: 0s - loss: 0.0192 - accuracy: 0.9949\n",
      "Epoch 34: val_accuracy did not improve from 0.99550\n",
      "1063/1063 [==============================] - 7s 6ms/step - loss: 0.0192 - accuracy: 0.9949 - val_loss: 0.0175 - val_accuracy: 0.9955\n",
      "Epoch 35/200\n",
      "1055/1063 [============================>.] - ETA: 0s - loss: 0.0185 - accuracy: 0.9951\n",
      "Epoch 35: val_accuracy improved from 0.99550 to 0.99576, saving model to /home/RUS_CIP/st179677/project/model/models/LSTM/lstm_best_model.h5\n",
      "1063/1063 [==============================] - 7s 6ms/step - loss: 0.0184 - accuracy: 0.9951 - val_loss: 0.0173 - val_accuracy: 0.9958\n",
      "Epoch 36/200\n",
      "1059/1063 [============================>.] - ETA: 0s - loss: 0.0177 - accuracy: 0.9953\n",
      "Epoch 36: val_accuracy did not improve from 0.99576\n",
      "1063/1063 [==============================] - 6s 6ms/step - loss: 0.0177 - accuracy: 0.9954 - val_loss: 0.0177 - val_accuracy: 0.9955\n",
      "Epoch 37/200\n",
      "1062/1063 [============================>.] - ETA: 0s - loss: 0.0176 - accuracy: 0.9954\n",
      "Epoch 37: val_accuracy did not improve from 0.99576\n",
      "1063/1063 [==============================] - 7s 6ms/step - loss: 0.0176 - accuracy: 0.9954 - val_loss: 0.0165 - val_accuracy: 0.9958\n",
      "Epoch 38/200\n",
      "1057/1063 [============================>.] - ETA: 0s - loss: 0.0173 - accuracy: 0.9955\n",
      "Epoch 38: val_accuracy improved from 0.99576 to 0.99656, saving model to /home/RUS_CIP/st179677/project/model/models/LSTM/lstm_best_model.h5\n",
      "1063/1063 [==============================] - 7s 6ms/step - loss: 0.0172 - accuracy: 0.9955 - val_loss: 0.0159 - val_accuracy: 0.9966\n",
      "Epoch 39/200\n",
      "1057/1063 [============================>.] - ETA: 0s - loss: 0.0176 - accuracy: 0.9956\n",
      "Epoch 39: val_accuracy did not improve from 0.99656\n",
      "1063/1063 [==============================] - 7s 6ms/step - loss: 0.0176 - accuracy: 0.9956 - val_loss: 0.0212 - val_accuracy: 0.9939\n",
      "Epoch 40/200\n",
      "1062/1063 [============================>.] - ETA: 0s - loss: 0.0168 - accuracy: 0.9956\n",
      "Epoch 40: val_accuracy did not improve from 0.99656\n",
      "1063/1063 [==============================] - 7s 6ms/step - loss: 0.0168 - accuracy: 0.9956 - val_loss: 0.0166 - val_accuracy: 0.9960\n",
      "Epoch 41/200\n",
      "1058/1063 [============================>.] - ETA: 0s - loss: 0.0156 - accuracy: 0.9959\n",
      "Epoch 41: val_accuracy did not improve from 0.99656\n",
      "1063/1063 [==============================] - 7s 6ms/step - loss: 0.0156 - accuracy: 0.9959 - val_loss: 0.0160 - val_accuracy: 0.9960\n",
      "Epoch 42/200\n",
      "1062/1063 [============================>.] - ETA: 0s - loss: 0.0160 - accuracy: 0.9959\n",
      "Epoch 42: val_accuracy did not improve from 0.99656\n",
      "1063/1063 [==============================] - 7s 6ms/step - loss: 0.0160 - accuracy: 0.9959 - val_loss: 0.0181 - val_accuracy: 0.9947\n",
      "Epoch 43/200\n",
      "1057/1063 [============================>.] - ETA: 0s - loss: 0.0155 - accuracy: 0.9957\n",
      "Epoch 43: val_accuracy did not improve from 0.99656\n",
      "1063/1063 [==============================] - 7s 6ms/step - loss: 0.0156 - accuracy: 0.9957 - val_loss: 0.0156 - val_accuracy: 0.9963\n",
      "Epoch 44/200\n",
      "1057/1063 [============================>.] - ETA: 0s - loss: 0.0145 - accuracy: 0.9961\n",
      "Epoch 44: val_accuracy did not improve from 0.99656\n",
      "1063/1063 [==============================] - 7s 6ms/step - loss: 0.0145 - accuracy: 0.9961 - val_loss: 0.0232 - val_accuracy: 0.9947\n",
      "Epoch 45/200\n",
      "1063/1063 [==============================] - ETA: 0s - loss: 0.0169 - accuracy: 0.9957\n",
      "Epoch 45: val_accuracy did not improve from 0.99656\n",
      "1063/1063 [==============================] - 7s 6ms/step - loss: 0.0169 - accuracy: 0.9957 - val_loss: 0.0140 - val_accuracy: 0.9966\n",
      "Epoch 46/200\n",
      "1063/1063 [==============================] - ETA: 0s - loss: 0.0139 - accuracy: 0.9966\n",
      "Epoch 46: val_accuracy did not improve from 0.99656\n",
      "1063/1063 [==============================] - 7s 7ms/step - loss: 0.0139 - accuracy: 0.9966 - val_loss: 0.0145 - val_accuracy: 0.9960\n",
      "Epoch 47/200\n",
      "1063/1063 [==============================] - ETA: 0s - loss: 0.0142 - accuracy: 0.9963\n",
      "Epoch 47: val_accuracy did not improve from 0.99656\n",
      "1063/1063 [==============================] - 7s 7ms/step - loss: 0.0142 - accuracy: 0.9963 - val_loss: 0.0137 - val_accuracy: 0.9960\n",
      "Epoch 48/200\n",
      "1063/1063 [==============================] - ETA: 0s - loss: 0.0157 - accuracy: 0.9960\n",
      "Epoch 48: val_accuracy did not improve from 0.99656\n",
      "1063/1063 [==============================] - 7s 6ms/step - loss: 0.0157 - accuracy: 0.9960 - val_loss: 0.0152 - val_accuracy: 0.9963\n",
      "Epoch 48: early stopping\n"
     ]
    }
   ],
   "source": [
    "#LSTM model\n",
    "from keras.optimizers import Adam\n",
    "\n",
    "adam = Adam(learning_rate=0.0001)\n",
    "# chk = ModelCheckpoint('best_model.pkl', monitor='val_acc', save_best_only=True, mode='max', verbose=1)\n",
    "model.compile(loss='sparse_categorical_crossentropy', optimizer=adam, metrics=['accuracy'])\n",
    "history=model.fit(X_train, Y_train ,validation_data=(X_val, Y_val), epochs=200, callbacks=callbacks_list, batch_size=32)"
   ]
  },
  {
   "cell_type": "code",
   "execution_count": 20,
   "metadata": {
    "metadata": {}
   },
   "outputs": [],
   "source": [
    "# # Load the TensorBoard notebook extension\n",
    "%load_ext tensorboard"
   ]
  },
  {
   "cell_type": "code",
   "execution_count": 21,
   "metadata": {
    "metadata": {}
   },
   "outputs": [
    {
     "name": "stdout",
     "output_type": "stream",
     "text": [
      "dict_keys(['loss', 'accuracy', 'val_loss', 'val_accuracy'])\n"
     ]
    },
    {
     "data": {
      "image/png": "[encoded data removed]",
      "text/plain": [
       "<Figure size 640x480 with 1 Axes>"
      ]
     },
     "metadata": {},
     "output_type": "display_data"
    },
    {
     "data": {
      "image/png": "[encoded data removed]",
      "text/plain": [
       "<Figure size 640x480 with 1 Axes>"
      ]
     },
     "metadata": {},
     "output_type": "display_data"
    }
   ],
   "source": [
    "# list all data in history\n",
    "print(history.history.keys())\n",
    "\n",
    "# summarize history for accuracy\n",
    "plt.plot(history.history['accuracy'])\n",
    "plt.plot(history.history['val_accuracy'])\n",
    "plt.title('LSTM : accuracy')\n",
    "plt.ylabel('accuracy')\n",
    "plt.xlabel('epoch')\n",
    "plt.legend(['train', 'validatiion'], loc='lower right')\n",
    "plt.show()\n",
    "\n",
    "# summarize history for loss\n",
    "plt.plot(history.history['loss'])\n",
    "plt.plot(history.history['val_loss'])\n",
    "plt.title('LSTM : training loss')\n",
    "plt.ylabel('loss')\n",
    "plt.xlabel('epoch')\n",
    "plt.legend(['train', 'validatiion'], loc='upper right')\n",
    "plt.show()"
   ]
  },
  {
   "cell_type": "code",
   "execution_count": 22,
   "metadata": {
    "metadata": {}
   },
   "outputs": [
    {
     "name": "stdout",
     "output_type": "stream",
     "text": [
      "298/298 [==============================] - 1s 2ms/step\n",
      "Inference time = 0.7925817966461182\n",
      "[0 0 0 ... 4 4 4]\n"
     ]
    },
    {
     "data": {
      "text/plain": [
       "0.9611426170972485"
      ]
     },
     "execution_count": 22,
     "metadata": {},
     "output_type": "execute_result"
    }
   ],
   "source": [
    "#predicting on test datset\n",
    "from keras.models import load_model\n",
    "from sklearn.metrics import accuracy_score\n",
    "\n",
    "start_time = time.time()\n",
    "classify_x=model.predict(X_test)\n",
    "end_time = time.time() - start_time\n",
    "print(f\"Inference time = {end_time}\")\n",
    "# print(classify_x)\n",
    "classes_x=np.argmax(classify_x,axis=1)\n",
    "# y_test= np.argmax(Y_test,axis=1)\n",
    "print(classes_x)\n",
    "classes_x = pd.DataFrame(classes_x)\n",
    "classes_x.to_csv(\"prediciton.csv\", index=False)\n",
    "accuracy=accuracy_score(y_test, classes_x)\n",
    "accuracy"
   ]
  },
  {
   "cell_type": "markdown",
   "metadata": {},
   "source": [
    "Performance Metrics"
   ]
  },
  {
   "cell_type": "code",
   "execution_count": 23,
   "metadata": {
    "metadata": {}
   },
   "outputs": [
    {
     "data": {
      "image/png": "[encoded data removed]",
      "text/plain": [
       "<Figure size 640x480 with 2 Axes>"
      ]
     },
     "metadata": {},
     "output_type": "display_data"
    },
    {
     "name": "stdout",
     "output_type": "stream",
     "text": [
      "              precision    recall  f1-score   support\n",
      "\n",
      "           0       0.97      0.97      0.97      2443\n",
      "           1       0.97      0.98      0.97      1920\n",
      "           2       0.94      0.95      0.95      1746\n",
      "           3       0.96      0.92      0.94      1514\n",
      "           4       0.96      0.98      0.97      1899\n",
      "\n",
      "    accuracy                           0.96      9522\n",
      "   macro avg       0.96      0.96      0.96      9522\n",
      "weighted avg       0.96      0.96      0.96      9522\n",
      "\n"
     ]
    }
   ],
   "source": [
    "labels = [\"standing\", \"lifting\", \"carrying\", \"keeping\", \"unnatural\"]\n",
    "\n",
    "cm = confusion_matrix(y_test, classes_x)\n",
    "\n",
    "disp = ConfusionMatrixDisplay(confusion_matrix=cm, display_labels=labels)\n",
    "\n",
    "disp.plot(cmap=plt.cm.Blues)\n",
    "plt.show()\n",
    "\n",
    "print(classification_report(y_test, classes_x))"
   ]
  },
  {
   "cell_type": "markdown",
   "metadata": {},
   "source": [
    "Save Model File"
   ]
  },
  {
   "cell_type": "code",
   "execution_count": 24,
   "metadata": {
    "metadata": {}
   },
   "outputs": [],
   "source": [
    "# from keras.saving import save_model\n",
    "\n",
    "\n",
    "# model_name = f\"{round(accuracy*100,2)}_LSTM.h5\"\n",
    "# model_filepath=f'/home/RUS_CIP/st179677/project/model/{model_name}'\n",
    "\n",
    "# model.save(model_filepath)"
   ]
  }
 ],
 "metadata": {
  "kernelspec": {
   "display_name": "tensorflow",
   "language": "python",
   "name": "python3"
  },
  "language_info": {
   "codemirror_mode": {
    "name": "ipython",
    "version": 3
   },
   "file_extension": ".py",
   "mimetype": "text/x-python",
   "name": "python",
   "nbconvert_exporter": "python",
   "pygments_lexer": "ipython3",
   "version": "3.9.18"
  }
 },
 "nbformat": 4,
 "nbformat_minor": 2
}
